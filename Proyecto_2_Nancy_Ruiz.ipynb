{
  "nbformat": 4,
  "nbformat_minor": 0,
  "metadata": {
    "colab": {
      "provenance": [],
      "collapsed_sections": []
    },
    "kernelspec": {
      "name": "python3",
      "display_name": "Python 3"
    },
    "language_info": {
      "name": "python"
    }
  },
  "cells": [
    {
      "cell_type": "markdown",
      "source": [
        "# **Proyecto 2**"
      ],
      "metadata": {
        "id": "Hskwe2Ep0qmw"
      }
    },
    {
      "cell_type": "code",
      "execution_count": 45,
      "metadata": {
        "id": "_8ID0qOl0Zd5"
      },
      "outputs": [],
      "source": [
        "# Importando librerías\n",
        "\n",
        "import sys\n",
        "import keyword\n",
        "import operator\n",
        "from datetime import datetime\n",
        "import os\n",
        "import math\n",
        "\n",
        "import matplotlib.pyplot as plt  #visualization\n",
        "import seaborn as sb  #visualization\n",
        "\n",
        "import numpy as np\n",
        "import pandas as pd\n",
        "\n",
        "# Esta linea permite que los graficos sean renderizados directamente en nuestro Notebook\n",
        "%matplotlib inline"
      ]
    },
    {
      "cell_type": "markdown",
      "source": [
        "# Ejercicio 1\n",
        "Generar una función y utilizar esta para recodificar la variable “país\n",
        "de origen” (1, 2, 3) en el dataframe a través de la función apply."
      ],
      "metadata": {
        "id": "x8vxoqSR00Pp"
      }
    },
    {
      "cell_type": "code",
      "source": [
        "#Leemos el archivo csv y lo almacenamos como DataFrame en una variable para usarlo posteriormente\n",
        "autos = pd.read_csv('https://raw.githubusercontent.com/Nancy-RS/Data-Analytics/proyecto1/autos.csv')\n",
        "autos.head(10)"
      ],
      "metadata": {
        "colab": {
          "base_uri": "https://localhost:8080/",
          "height": 363
        },
        "id": "10z_u9Jf1SiN",
        "outputId": "dfd021cd-220c-4dac-b988-34708caa48e5"
      },
      "execution_count": 46,
      "outputs": [
        {
          "output_type": "execute_result",
          "data": {
            "text/plain": [
              "   Millas_Por_Galon  Cilindros Pais_Origen  Peso_En_Libras  Desplazamiento  \\\n",
              "0              18.0          8         USA            3504           307.0   \n",
              "1              15.0          8         USA            3693           350.0   \n",
              "2              18.0          8         USA            3436           318.0   \n",
              "3              16.0          8         USA            3433           304.0   \n",
              "4              17.0          8         USA            3449           302.0   \n",
              "5              15.0          8         USA            4341           429.0   \n",
              "6              14.0          8         USA            4354           454.0   \n",
              "7              14.0          8         USA            4312           440.0   \n",
              "8              14.0          8         USA            4425           455.0   \n",
              "9              15.0          8         USA            3850           390.0   \n",
              "\n",
              "   Aceleracion                     Nombre        Anyo  Caballo_De_Fuerza  \n",
              "0         12.0  chevrolet chevelle malibu  01/01/1970              130.0  \n",
              "1         11.5          buick skylark 320  01/01/1970              165.0  \n",
              "2         11.0         plymouth satellite  01/01/1970              150.0  \n",
              "3         12.0              amc rebel sst  01/01/1970              150.0  \n",
              "4         10.5                ford torino  01/01/1970              140.0  \n",
              "5         10.0           ford galaxie 500  01/01/1970              198.0  \n",
              "6          9.0           chevrolet impala  01/01/1970              220.0  \n",
              "7          8.5          plymouth fury iii  01/01/1970              215.0  \n",
              "8         10.0           pontiac catalina  01/01/1970              225.0  \n",
              "9          8.5         amc ambassador dpl  01/01/1970              190.0  "
            ],
            "text/html": [
              "\n",
              "  <div id=\"df-41ebcb62-9eb7-4929-b04b-41f892cd0d77\">\n",
              "    <div class=\"colab-df-container\">\n",
              "      <div>\n",
              "<style scoped>\n",
              "    .dataframe tbody tr th:only-of-type {\n",
              "        vertical-align: middle;\n",
              "    }\n",
              "\n",
              "    .dataframe tbody tr th {\n",
              "        vertical-align: top;\n",
              "    }\n",
              "\n",
              "    .dataframe thead th {\n",
              "        text-align: right;\n",
              "    }\n",
              "</style>\n",
              "<table border=\"1\" class=\"dataframe\">\n",
              "  <thead>\n",
              "    <tr style=\"text-align: right;\">\n",
              "      <th></th>\n",
              "      <th>Millas_Por_Galon</th>\n",
              "      <th>Cilindros</th>\n",
              "      <th>Pais_Origen</th>\n",
              "      <th>Peso_En_Libras</th>\n",
              "      <th>Desplazamiento</th>\n",
              "      <th>Aceleracion</th>\n",
              "      <th>Nombre</th>\n",
              "      <th>Anyo</th>\n",
              "      <th>Caballo_De_Fuerza</th>\n",
              "    </tr>\n",
              "  </thead>\n",
              "  <tbody>\n",
              "    <tr>\n",
              "      <th>0</th>\n",
              "      <td>18.0</td>\n",
              "      <td>8</td>\n",
              "      <td>USA</td>\n",
              "      <td>3504</td>\n",
              "      <td>307.0</td>\n",
              "      <td>12.0</td>\n",
              "      <td>chevrolet chevelle malibu</td>\n",
              "      <td>01/01/1970</td>\n",
              "      <td>130.0</td>\n",
              "    </tr>\n",
              "    <tr>\n",
              "      <th>1</th>\n",
              "      <td>15.0</td>\n",
              "      <td>8</td>\n",
              "      <td>USA</td>\n",
              "      <td>3693</td>\n",
              "      <td>350.0</td>\n",
              "      <td>11.5</td>\n",
              "      <td>buick skylark 320</td>\n",
              "      <td>01/01/1970</td>\n",
              "      <td>165.0</td>\n",
              "    </tr>\n",
              "    <tr>\n",
              "      <th>2</th>\n",
              "      <td>18.0</td>\n",
              "      <td>8</td>\n",
              "      <td>USA</td>\n",
              "      <td>3436</td>\n",
              "      <td>318.0</td>\n",
              "      <td>11.0</td>\n",
              "      <td>plymouth satellite</td>\n",
              "      <td>01/01/1970</td>\n",
              "      <td>150.0</td>\n",
              "    </tr>\n",
              "    <tr>\n",
              "      <th>3</th>\n",
              "      <td>16.0</td>\n",
              "      <td>8</td>\n",
              "      <td>USA</td>\n",
              "      <td>3433</td>\n",
              "      <td>304.0</td>\n",
              "      <td>12.0</td>\n",
              "      <td>amc rebel sst</td>\n",
              "      <td>01/01/1970</td>\n",
              "      <td>150.0</td>\n",
              "    </tr>\n",
              "    <tr>\n",
              "      <th>4</th>\n",
              "      <td>17.0</td>\n",
              "      <td>8</td>\n",
              "      <td>USA</td>\n",
              "      <td>3449</td>\n",
              "      <td>302.0</td>\n",
              "      <td>10.5</td>\n",
              "      <td>ford torino</td>\n",
              "      <td>01/01/1970</td>\n",
              "      <td>140.0</td>\n",
              "    </tr>\n",
              "    <tr>\n",
              "      <th>5</th>\n",
              "      <td>15.0</td>\n",
              "      <td>8</td>\n",
              "      <td>USA</td>\n",
              "      <td>4341</td>\n",
              "      <td>429.0</td>\n",
              "      <td>10.0</td>\n",
              "      <td>ford galaxie 500</td>\n",
              "      <td>01/01/1970</td>\n",
              "      <td>198.0</td>\n",
              "    </tr>\n",
              "    <tr>\n",
              "      <th>6</th>\n",
              "      <td>14.0</td>\n",
              "      <td>8</td>\n",
              "      <td>USA</td>\n",
              "      <td>4354</td>\n",
              "      <td>454.0</td>\n",
              "      <td>9.0</td>\n",
              "      <td>chevrolet impala</td>\n",
              "      <td>01/01/1970</td>\n",
              "      <td>220.0</td>\n",
              "    </tr>\n",
              "    <tr>\n",
              "      <th>7</th>\n",
              "      <td>14.0</td>\n",
              "      <td>8</td>\n",
              "      <td>USA</td>\n",
              "      <td>4312</td>\n",
              "      <td>440.0</td>\n",
              "      <td>8.5</td>\n",
              "      <td>plymouth fury iii</td>\n",
              "      <td>01/01/1970</td>\n",
              "      <td>215.0</td>\n",
              "    </tr>\n",
              "    <tr>\n",
              "      <th>8</th>\n",
              "      <td>14.0</td>\n",
              "      <td>8</td>\n",
              "      <td>USA</td>\n",
              "      <td>4425</td>\n",
              "      <td>455.0</td>\n",
              "      <td>10.0</td>\n",
              "      <td>pontiac catalina</td>\n",
              "      <td>01/01/1970</td>\n",
              "      <td>225.0</td>\n",
              "    </tr>\n",
              "    <tr>\n",
              "      <th>9</th>\n",
              "      <td>15.0</td>\n",
              "      <td>8</td>\n",
              "      <td>USA</td>\n",
              "      <td>3850</td>\n",
              "      <td>390.0</td>\n",
              "      <td>8.5</td>\n",
              "      <td>amc ambassador dpl</td>\n",
              "      <td>01/01/1970</td>\n",
              "      <td>190.0</td>\n",
              "    </tr>\n",
              "  </tbody>\n",
              "</table>\n",
              "</div>\n",
              "      <button class=\"colab-df-convert\" onclick=\"convertToInteractive('df-41ebcb62-9eb7-4929-b04b-41f892cd0d77')\"\n",
              "              title=\"Convert this dataframe to an interactive table.\"\n",
              "              style=\"display:none;\">\n",
              "        \n",
              "  <svg xmlns=\"http://www.w3.org/2000/svg\" height=\"24px\"viewBox=\"0 0 24 24\"\n",
              "       width=\"24px\">\n",
              "    <path d=\"M0 0h24v24H0V0z\" fill=\"none\"/>\n",
              "    <path d=\"M18.56 5.44l.94 2.06.94-2.06 2.06-.94-2.06-.94-.94-2.06-.94 2.06-2.06.94zm-11 1L8.5 8.5l.94-2.06 2.06-.94-2.06-.94L8.5 2.5l-.94 2.06-2.06.94zm10 10l.94 2.06.94-2.06 2.06-.94-2.06-.94-.94-2.06-.94 2.06-2.06.94z\"/><path d=\"M17.41 7.96l-1.37-1.37c-.4-.4-.92-.59-1.43-.59-.52 0-1.04.2-1.43.59L10.3 9.45l-7.72 7.72c-.78.78-.78 2.05 0 2.83L4 21.41c.39.39.9.59 1.41.59.51 0 1.02-.2 1.41-.59l7.78-7.78 2.81-2.81c.8-.78.8-2.07 0-2.86zM5.41 20L4 18.59l7.72-7.72 1.47 1.35L5.41 20z\"/>\n",
              "  </svg>\n",
              "      </button>\n",
              "      \n",
              "  <style>\n",
              "    .colab-df-container {\n",
              "      display:flex;\n",
              "      flex-wrap:wrap;\n",
              "      gap: 12px;\n",
              "    }\n",
              "\n",
              "    .colab-df-convert {\n",
              "      background-color: #E8F0FE;\n",
              "      border: none;\n",
              "      border-radius: 50%;\n",
              "      cursor: pointer;\n",
              "      display: none;\n",
              "      fill: #1967D2;\n",
              "      height: 32px;\n",
              "      padding: 0 0 0 0;\n",
              "      width: 32px;\n",
              "    }\n",
              "\n",
              "    .colab-df-convert:hover {\n",
              "      background-color: #E2EBFA;\n",
              "      box-shadow: 0px 1px 2px rgba(60, 64, 67, 0.3), 0px 1px 3px 1px rgba(60, 64, 67, 0.15);\n",
              "      fill: #174EA6;\n",
              "    }\n",
              "\n",
              "    [theme=dark] .colab-df-convert {\n",
              "      background-color: #3B4455;\n",
              "      fill: #D2E3FC;\n",
              "    }\n",
              "\n",
              "    [theme=dark] .colab-df-convert:hover {\n",
              "      background-color: #434B5C;\n",
              "      box-shadow: 0px 1px 3px 1px rgba(0, 0, 0, 0.15);\n",
              "      filter: drop-shadow(0px 1px 2px rgba(0, 0, 0, 0.3));\n",
              "      fill: #FFFFFF;\n",
              "    }\n",
              "  </style>\n",
              "\n",
              "      <script>\n",
              "        const buttonEl =\n",
              "          document.querySelector('#df-41ebcb62-9eb7-4929-b04b-41f892cd0d77 button.colab-df-convert');\n",
              "        buttonEl.style.display =\n",
              "          google.colab.kernel.accessAllowed ? 'block' : 'none';\n",
              "\n",
              "        async function convertToInteractive(key) {\n",
              "          const element = document.querySelector('#df-41ebcb62-9eb7-4929-b04b-41f892cd0d77');\n",
              "          const dataTable =\n",
              "            await google.colab.kernel.invokeFunction('convertToInteractive',\n",
              "                                                     [key], {});\n",
              "          if (!dataTable) return;\n",
              "\n",
              "          const docLinkHtml = 'Like what you see? Visit the ' +\n",
              "            '<a target=\"_blank\" href=https://colab.research.google.com/notebooks/data_table.ipynb>data table notebook</a>'\n",
              "            + ' to learn more about interactive tables.';\n",
              "          element.innerHTML = '';\n",
              "          dataTable['output_type'] = 'display_data';\n",
              "          await google.colab.output.renderOutput(dataTable, element);\n",
              "          const docLink = document.createElement('div');\n",
              "          docLink.innerHTML = docLinkHtml;\n",
              "          element.appendChild(docLink);\n",
              "        }\n",
              "      </script>\n",
              "    </div>\n",
              "  </div>\n",
              "  "
            ]
          },
          "metadata": {},
          "execution_count": 46
        }
      ]
    },
    {
      "cell_type": "code",
      "source": [
        "#Encuentro los valores únicos de la variable Pais_Origen para saber cómo será la asignación\n",
        "autos['Pais_Origen'].unique().tolist()"
      ],
      "metadata": {
        "colab": {
          "base_uri": "https://localhost:8080/"
        },
        "id": "UWHXicpX2z2O",
        "outputId": "ce087110-4fed-4d0d-becf-ada7852f5f72"
      },
      "execution_count": 47,
      "outputs": [
        {
          "output_type": "execute_result",
          "data": {
            "text/plain": [
              "['USA', 'Europe', 'Japan']"
            ]
          },
          "metadata": {},
          "execution_count": 47
        }
      ]
    },
    {
      "cell_type": "code",
      "source": [
        "Pais_Origen = autos['Pais_Origen'].tolist()"
      ],
      "metadata": {
        "id": "N8a7U0AQDkxz"
      },
      "execution_count": 48,
      "outputs": []
    },
    {
      "cell_type": "code",
      "source": [
        "def paises(lista):\n",
        "    new_code = []\n",
        "    for pais in lista:\n",
        "        if pais == 'USA':\n",
        "            pais_code = pais.replace('USA', '1')\n",
        "            new_code.append(pais_code)\n",
        "        elif pais == 'Europe':\n",
        "            pais_code = pais.replace('Europe', '2')\n",
        "            new_code.append(pais_code)\n",
        "        else:\n",
        "            pais_code = pais.replace('Japan', '3')\n",
        "            new_code.append(pais_code)\n",
        "    return new_code\n",
        "\n",
        "codigo_paises = paises(Pais_Origen)"
      ],
      "metadata": {
        "id": "2-BWBYlY4HVs"
      },
      "execution_count": 49,
      "outputs": []
    },
    {
      "cell_type": "code",
      "source": [
        "autos['Pais_Origen'] = codigo_paises\n",
        "autos"
      ],
      "metadata": {
        "colab": {
          "base_uri": "https://localhost:8080/",
          "height": 424
        },
        "id": "ZkfCKZzF_e-W",
        "outputId": "a51267ee-e6b5-4baf-917c-274c6d48058a"
      },
      "execution_count": 50,
      "outputs": [
        {
          "output_type": "execute_result",
          "data": {
            "text/plain": [
              "     Millas_Por_Galon  Cilindros Pais_Origen  Peso_En_Libras  Desplazamiento  \\\n",
              "0                18.0          8           1            3504           307.0   \n",
              "1                15.0          8           1            3693           350.0   \n",
              "2                18.0          8           1            3436           318.0   \n",
              "3                16.0          8           1            3433           304.0   \n",
              "4                17.0          8           1            3449           302.0   \n",
              "..                ...        ...         ...             ...             ...   \n",
              "401              27.0          4           1            2790           140.0   \n",
              "402              44.0          4           2            2130            97.0   \n",
              "403              32.0          4           1            2295           135.0   \n",
              "404              28.0          4           1            2625           120.0   \n",
              "405              31.0          4           1            2720           119.0   \n",
              "\n",
              "     Aceleracion                     Nombre        Anyo  Caballo_De_Fuerza  \n",
              "0           12.0  chevrolet chevelle malibu  01/01/1970              130.0  \n",
              "1           11.5          buick skylark 320  01/01/1970              165.0  \n",
              "2           11.0         plymouth satellite  01/01/1970              150.0  \n",
              "3           12.0              amc rebel sst  01/01/1970              150.0  \n",
              "4           10.5                ford torino  01/01/1970              140.0  \n",
              "..           ...                        ...         ...                ...  \n",
              "401         15.6            ford mustang gl  01/01/1982               86.0  \n",
              "402         24.6                  vw pickup  01/01/1982               52.0  \n",
              "403         11.6              dodge rampage  01/01/1982               84.0  \n",
              "404         18.6                ford ranger  01/01/1982               79.0  \n",
              "405         19.4                 chevy s-10  01/01/1982               82.0  \n",
              "\n",
              "[406 rows x 9 columns]"
            ],
            "text/html": [
              "\n",
              "  <div id=\"df-a47c5f5d-b6b8-496e-931c-697bb2e42f11\">\n",
              "    <div class=\"colab-df-container\">\n",
              "      <div>\n",
              "<style scoped>\n",
              "    .dataframe tbody tr th:only-of-type {\n",
              "        vertical-align: middle;\n",
              "    }\n",
              "\n",
              "    .dataframe tbody tr th {\n",
              "        vertical-align: top;\n",
              "    }\n",
              "\n",
              "    .dataframe thead th {\n",
              "        text-align: right;\n",
              "    }\n",
              "</style>\n",
              "<table border=\"1\" class=\"dataframe\">\n",
              "  <thead>\n",
              "    <tr style=\"text-align: right;\">\n",
              "      <th></th>\n",
              "      <th>Millas_Por_Galon</th>\n",
              "      <th>Cilindros</th>\n",
              "      <th>Pais_Origen</th>\n",
              "      <th>Peso_En_Libras</th>\n",
              "      <th>Desplazamiento</th>\n",
              "      <th>Aceleracion</th>\n",
              "      <th>Nombre</th>\n",
              "      <th>Anyo</th>\n",
              "      <th>Caballo_De_Fuerza</th>\n",
              "    </tr>\n",
              "  </thead>\n",
              "  <tbody>\n",
              "    <tr>\n",
              "      <th>0</th>\n",
              "      <td>18.0</td>\n",
              "      <td>8</td>\n",
              "      <td>1</td>\n",
              "      <td>3504</td>\n",
              "      <td>307.0</td>\n",
              "      <td>12.0</td>\n",
              "      <td>chevrolet chevelle malibu</td>\n",
              "      <td>01/01/1970</td>\n",
              "      <td>130.0</td>\n",
              "    </tr>\n",
              "    <tr>\n",
              "      <th>1</th>\n",
              "      <td>15.0</td>\n",
              "      <td>8</td>\n",
              "      <td>1</td>\n",
              "      <td>3693</td>\n",
              "      <td>350.0</td>\n",
              "      <td>11.5</td>\n",
              "      <td>buick skylark 320</td>\n",
              "      <td>01/01/1970</td>\n",
              "      <td>165.0</td>\n",
              "    </tr>\n",
              "    <tr>\n",
              "      <th>2</th>\n",
              "      <td>18.0</td>\n",
              "      <td>8</td>\n",
              "      <td>1</td>\n",
              "      <td>3436</td>\n",
              "      <td>318.0</td>\n",
              "      <td>11.0</td>\n",
              "      <td>plymouth satellite</td>\n",
              "      <td>01/01/1970</td>\n",
              "      <td>150.0</td>\n",
              "    </tr>\n",
              "    <tr>\n",
              "      <th>3</th>\n",
              "      <td>16.0</td>\n",
              "      <td>8</td>\n",
              "      <td>1</td>\n",
              "      <td>3433</td>\n",
              "      <td>304.0</td>\n",
              "      <td>12.0</td>\n",
              "      <td>amc rebel sst</td>\n",
              "      <td>01/01/1970</td>\n",
              "      <td>150.0</td>\n",
              "    </tr>\n",
              "    <tr>\n",
              "      <th>4</th>\n",
              "      <td>17.0</td>\n",
              "      <td>8</td>\n",
              "      <td>1</td>\n",
              "      <td>3449</td>\n",
              "      <td>302.0</td>\n",
              "      <td>10.5</td>\n",
              "      <td>ford torino</td>\n",
              "      <td>01/01/1970</td>\n",
              "      <td>140.0</td>\n",
              "    </tr>\n",
              "    <tr>\n",
              "      <th>...</th>\n",
              "      <td>...</td>\n",
              "      <td>...</td>\n",
              "      <td>...</td>\n",
              "      <td>...</td>\n",
              "      <td>...</td>\n",
              "      <td>...</td>\n",
              "      <td>...</td>\n",
              "      <td>...</td>\n",
              "      <td>...</td>\n",
              "    </tr>\n",
              "    <tr>\n",
              "      <th>401</th>\n",
              "      <td>27.0</td>\n",
              "      <td>4</td>\n",
              "      <td>1</td>\n",
              "      <td>2790</td>\n",
              "      <td>140.0</td>\n",
              "      <td>15.6</td>\n",
              "      <td>ford mustang gl</td>\n",
              "      <td>01/01/1982</td>\n",
              "      <td>86.0</td>\n",
              "    </tr>\n",
              "    <tr>\n",
              "      <th>402</th>\n",
              "      <td>44.0</td>\n",
              "      <td>4</td>\n",
              "      <td>2</td>\n",
              "      <td>2130</td>\n",
              "      <td>97.0</td>\n",
              "      <td>24.6</td>\n",
              "      <td>vw pickup</td>\n",
              "      <td>01/01/1982</td>\n",
              "      <td>52.0</td>\n",
              "    </tr>\n",
              "    <tr>\n",
              "      <th>403</th>\n",
              "      <td>32.0</td>\n",
              "      <td>4</td>\n",
              "      <td>1</td>\n",
              "      <td>2295</td>\n",
              "      <td>135.0</td>\n",
              "      <td>11.6</td>\n",
              "      <td>dodge rampage</td>\n",
              "      <td>01/01/1982</td>\n",
              "      <td>84.0</td>\n",
              "    </tr>\n",
              "    <tr>\n",
              "      <th>404</th>\n",
              "      <td>28.0</td>\n",
              "      <td>4</td>\n",
              "      <td>1</td>\n",
              "      <td>2625</td>\n",
              "      <td>120.0</td>\n",
              "      <td>18.6</td>\n",
              "      <td>ford ranger</td>\n",
              "      <td>01/01/1982</td>\n",
              "      <td>79.0</td>\n",
              "    </tr>\n",
              "    <tr>\n",
              "      <th>405</th>\n",
              "      <td>31.0</td>\n",
              "      <td>4</td>\n",
              "      <td>1</td>\n",
              "      <td>2720</td>\n",
              "      <td>119.0</td>\n",
              "      <td>19.4</td>\n",
              "      <td>chevy s-10</td>\n",
              "      <td>01/01/1982</td>\n",
              "      <td>82.0</td>\n",
              "    </tr>\n",
              "  </tbody>\n",
              "</table>\n",
              "<p>406 rows × 9 columns</p>\n",
              "</div>\n",
              "      <button class=\"colab-df-convert\" onclick=\"convertToInteractive('df-a47c5f5d-b6b8-496e-931c-697bb2e42f11')\"\n",
              "              title=\"Convert this dataframe to an interactive table.\"\n",
              "              style=\"display:none;\">\n",
              "        \n",
              "  <svg xmlns=\"http://www.w3.org/2000/svg\" height=\"24px\"viewBox=\"0 0 24 24\"\n",
              "       width=\"24px\">\n",
              "    <path d=\"M0 0h24v24H0V0z\" fill=\"none\"/>\n",
              "    <path d=\"M18.56 5.44l.94 2.06.94-2.06 2.06-.94-2.06-.94-.94-2.06-.94 2.06-2.06.94zm-11 1L8.5 8.5l.94-2.06 2.06-.94-2.06-.94L8.5 2.5l-.94 2.06-2.06.94zm10 10l.94 2.06.94-2.06 2.06-.94-2.06-.94-.94-2.06-.94 2.06-2.06.94z\"/><path d=\"M17.41 7.96l-1.37-1.37c-.4-.4-.92-.59-1.43-.59-.52 0-1.04.2-1.43.59L10.3 9.45l-7.72 7.72c-.78.78-.78 2.05 0 2.83L4 21.41c.39.39.9.59 1.41.59.51 0 1.02-.2 1.41-.59l7.78-7.78 2.81-2.81c.8-.78.8-2.07 0-2.86zM5.41 20L4 18.59l7.72-7.72 1.47 1.35L5.41 20z\"/>\n",
              "  </svg>\n",
              "      </button>\n",
              "      \n",
              "  <style>\n",
              "    .colab-df-container {\n",
              "      display:flex;\n",
              "      flex-wrap:wrap;\n",
              "      gap: 12px;\n",
              "    }\n",
              "\n",
              "    .colab-df-convert {\n",
              "      background-color: #E8F0FE;\n",
              "      border: none;\n",
              "      border-radius: 50%;\n",
              "      cursor: pointer;\n",
              "      display: none;\n",
              "      fill: #1967D2;\n",
              "      height: 32px;\n",
              "      padding: 0 0 0 0;\n",
              "      width: 32px;\n",
              "    }\n",
              "\n",
              "    .colab-df-convert:hover {\n",
              "      background-color: #E2EBFA;\n",
              "      box-shadow: 0px 1px 2px rgba(60, 64, 67, 0.3), 0px 1px 3px 1px rgba(60, 64, 67, 0.15);\n",
              "      fill: #174EA6;\n",
              "    }\n",
              "\n",
              "    [theme=dark] .colab-df-convert {\n",
              "      background-color: #3B4455;\n",
              "      fill: #D2E3FC;\n",
              "    }\n",
              "\n",
              "    [theme=dark] .colab-df-convert:hover {\n",
              "      background-color: #434B5C;\n",
              "      box-shadow: 0px 1px 3px 1px rgba(0, 0, 0, 0.15);\n",
              "      filter: drop-shadow(0px 1px 2px rgba(0, 0, 0, 0.3));\n",
              "      fill: #FFFFFF;\n",
              "    }\n",
              "  </style>\n",
              "\n",
              "      <script>\n",
              "        const buttonEl =\n",
              "          document.querySelector('#df-a47c5f5d-b6b8-496e-931c-697bb2e42f11 button.colab-df-convert');\n",
              "        buttonEl.style.display =\n",
              "          google.colab.kernel.accessAllowed ? 'block' : 'none';\n",
              "\n",
              "        async function convertToInteractive(key) {\n",
              "          const element = document.querySelector('#df-a47c5f5d-b6b8-496e-931c-697bb2e42f11');\n",
              "          const dataTable =\n",
              "            await google.colab.kernel.invokeFunction('convertToInteractive',\n",
              "                                                     [key], {});\n",
              "          if (!dataTable) return;\n",
              "\n",
              "          const docLinkHtml = 'Like what you see? Visit the ' +\n",
              "            '<a target=\"_blank\" href=https://colab.research.google.com/notebooks/data_table.ipynb>data table notebook</a>'\n",
              "            + ' to learn more about interactive tables.';\n",
              "          element.innerHTML = '';\n",
              "          dataTable['output_type'] = 'display_data';\n",
              "          await google.colab.output.renderOutput(dataTable, element);\n",
              "          const docLink = document.createElement('div');\n",
              "          docLink.innerHTML = docLinkHtml;\n",
              "          element.appendChild(docLink);\n",
              "        }\n",
              "      </script>\n",
              "    </div>\n",
              "  </div>\n",
              "  "
            ]
          },
          "metadata": {},
          "execution_count": 50
        }
      ]
    },
    {
      "cell_type": "markdown",
      "source": [
        "# Ejercicio 2\n",
        "Generar un Notebook Colab con código y resultados, con el\n",
        "siguiente fichero autos.csv que contiene información de autos de\n",
        "un periodo de tiempo. Resolver los siguientes:\n",
        "- Limpieza y tratamiento de las variables (Según corresponda)\n",
        "- Generar 5 nuevas variables aplicando los siguientes criterios\n",
        "con las variables numéricas:\n",
        "\n",
        "\n",
        "1. Log10(var1/var2)\n",
        "2. Sqrt(var1)*exp(var2)/200\n",
        "3. Si var 1 &gt; var 2 → 5, caso contrario 3\n",
        "4. 1/logn(var1/var2)*100\n",
        "5. var2**2/var1\n",
        "\n",
        "\n",
        "\n",
        "*   Generar 3 variables cualitativas ordinales a partir de las\n",
        "variables numéricas con los siguientes criterios:\n",
        "\n",
        "★ Si es mayor a la “media + 1*desviación estándar” →\n",
        "Alto \n",
        "★ Si está entre “media - 1*desviación estándar” y\n",
        "“media + 1*desviación estándar” → Medio\n",
        "★ Si es menor a la “media - 1*desviación estándar” →\n",
        "Bajo\n",
        "Nota: Mostrar con las nuevas variables generadas.\n",
        "Elegir con libertad las variables a trabajar.\n",
        "- Crear una función que muestre los siguientes gráficos para\n",
        "las variables numéricas según una variable cualitativa:\n",
        "\n",
        "❖ Cajas y bigotes\n",
        "❖ Barras de la media\n",
        "❖ Histograma con Curva\n",
        "\n",
        "- Crear una función que devuelva un mapa de calor con la\n",
        "correlación de todas las variables numéricas (incluye las\n",
        "generadas), para cada país.\n",
        "\n",
        "\n",
        "\n"
      ],
      "metadata": {
        "id": "Ccme4zKr-eVS"
      }
    },
    {
      "cell_type": "markdown",
      "source": [
        "## LIMPIEZA Y TRATAMIENTO"
      ],
      "metadata": {
        "id": "OFKAwco-M6ow"
      }
    },
    {
      "cell_type": "code",
      "source": [
        "#LIMPIEZA Y TRATAMIENTO\n",
        "\n",
        "#Visualización del Data frame\n",
        "autos.head(5)"
      ],
      "metadata": {
        "colab": {
          "base_uri": "https://localhost:8080/",
          "height": 206
        },
        "id": "2q-sBPYLHWL1",
        "outputId": "b33ad5cb-6be8-4956-d062-9cf098e25366"
      },
      "execution_count": 51,
      "outputs": [
        {
          "output_type": "execute_result",
          "data": {
            "text/plain": [
              "   Millas_Por_Galon  Cilindros Pais_Origen  Peso_En_Libras  Desplazamiento  \\\n",
              "0              18.0          8           1            3504           307.0   \n",
              "1              15.0          8           1            3693           350.0   \n",
              "2              18.0          8           1            3436           318.0   \n",
              "3              16.0          8           1            3433           304.0   \n",
              "4              17.0          8           1            3449           302.0   \n",
              "\n",
              "   Aceleracion                     Nombre        Anyo  Caballo_De_Fuerza  \n",
              "0         12.0  chevrolet chevelle malibu  01/01/1970              130.0  \n",
              "1         11.5          buick skylark 320  01/01/1970              165.0  \n",
              "2         11.0         plymouth satellite  01/01/1970              150.0  \n",
              "3         12.0              amc rebel sst  01/01/1970              150.0  \n",
              "4         10.5                ford torino  01/01/1970              140.0  "
            ],
            "text/html": [
              "\n",
              "  <div id=\"df-956fa3bb-d18e-46c6-b8b0-6b74247da216\">\n",
              "    <div class=\"colab-df-container\">\n",
              "      <div>\n",
              "<style scoped>\n",
              "    .dataframe tbody tr th:only-of-type {\n",
              "        vertical-align: middle;\n",
              "    }\n",
              "\n",
              "    .dataframe tbody tr th {\n",
              "        vertical-align: top;\n",
              "    }\n",
              "\n",
              "    .dataframe thead th {\n",
              "        text-align: right;\n",
              "    }\n",
              "</style>\n",
              "<table border=\"1\" class=\"dataframe\">\n",
              "  <thead>\n",
              "    <tr style=\"text-align: right;\">\n",
              "      <th></th>\n",
              "      <th>Millas_Por_Galon</th>\n",
              "      <th>Cilindros</th>\n",
              "      <th>Pais_Origen</th>\n",
              "      <th>Peso_En_Libras</th>\n",
              "      <th>Desplazamiento</th>\n",
              "      <th>Aceleracion</th>\n",
              "      <th>Nombre</th>\n",
              "      <th>Anyo</th>\n",
              "      <th>Caballo_De_Fuerza</th>\n",
              "    </tr>\n",
              "  </thead>\n",
              "  <tbody>\n",
              "    <tr>\n",
              "      <th>0</th>\n",
              "      <td>18.0</td>\n",
              "      <td>8</td>\n",
              "      <td>1</td>\n",
              "      <td>3504</td>\n",
              "      <td>307.0</td>\n",
              "      <td>12.0</td>\n",
              "      <td>chevrolet chevelle malibu</td>\n",
              "      <td>01/01/1970</td>\n",
              "      <td>130.0</td>\n",
              "    </tr>\n",
              "    <tr>\n",
              "      <th>1</th>\n",
              "      <td>15.0</td>\n",
              "      <td>8</td>\n",
              "      <td>1</td>\n",
              "      <td>3693</td>\n",
              "      <td>350.0</td>\n",
              "      <td>11.5</td>\n",
              "      <td>buick skylark 320</td>\n",
              "      <td>01/01/1970</td>\n",
              "      <td>165.0</td>\n",
              "    </tr>\n",
              "    <tr>\n",
              "      <th>2</th>\n",
              "      <td>18.0</td>\n",
              "      <td>8</td>\n",
              "      <td>1</td>\n",
              "      <td>3436</td>\n",
              "      <td>318.0</td>\n",
              "      <td>11.0</td>\n",
              "      <td>plymouth satellite</td>\n",
              "      <td>01/01/1970</td>\n",
              "      <td>150.0</td>\n",
              "    </tr>\n",
              "    <tr>\n",
              "      <th>3</th>\n",
              "      <td>16.0</td>\n",
              "      <td>8</td>\n",
              "      <td>1</td>\n",
              "      <td>3433</td>\n",
              "      <td>304.0</td>\n",
              "      <td>12.0</td>\n",
              "      <td>amc rebel sst</td>\n",
              "      <td>01/01/1970</td>\n",
              "      <td>150.0</td>\n",
              "    </tr>\n",
              "    <tr>\n",
              "      <th>4</th>\n",
              "      <td>17.0</td>\n",
              "      <td>8</td>\n",
              "      <td>1</td>\n",
              "      <td>3449</td>\n",
              "      <td>302.0</td>\n",
              "      <td>10.5</td>\n",
              "      <td>ford torino</td>\n",
              "      <td>01/01/1970</td>\n",
              "      <td>140.0</td>\n",
              "    </tr>\n",
              "  </tbody>\n",
              "</table>\n",
              "</div>\n",
              "      <button class=\"colab-df-convert\" onclick=\"convertToInteractive('df-956fa3bb-d18e-46c6-b8b0-6b74247da216')\"\n",
              "              title=\"Convert this dataframe to an interactive table.\"\n",
              "              style=\"display:none;\">\n",
              "        \n",
              "  <svg xmlns=\"http://www.w3.org/2000/svg\" height=\"24px\"viewBox=\"0 0 24 24\"\n",
              "       width=\"24px\">\n",
              "    <path d=\"M0 0h24v24H0V0z\" fill=\"none\"/>\n",
              "    <path d=\"M18.56 5.44l.94 2.06.94-2.06 2.06-.94-2.06-.94-.94-2.06-.94 2.06-2.06.94zm-11 1L8.5 8.5l.94-2.06 2.06-.94-2.06-.94L8.5 2.5l-.94 2.06-2.06.94zm10 10l.94 2.06.94-2.06 2.06-.94-2.06-.94-.94-2.06-.94 2.06-2.06.94z\"/><path d=\"M17.41 7.96l-1.37-1.37c-.4-.4-.92-.59-1.43-.59-.52 0-1.04.2-1.43.59L10.3 9.45l-7.72 7.72c-.78.78-.78 2.05 0 2.83L4 21.41c.39.39.9.59 1.41.59.51 0 1.02-.2 1.41-.59l7.78-7.78 2.81-2.81c.8-.78.8-2.07 0-2.86zM5.41 20L4 18.59l7.72-7.72 1.47 1.35L5.41 20z\"/>\n",
              "  </svg>\n",
              "      </button>\n",
              "      \n",
              "  <style>\n",
              "    .colab-df-container {\n",
              "      display:flex;\n",
              "      flex-wrap:wrap;\n",
              "      gap: 12px;\n",
              "    }\n",
              "\n",
              "    .colab-df-convert {\n",
              "      background-color: #E8F0FE;\n",
              "      border: none;\n",
              "      border-radius: 50%;\n",
              "      cursor: pointer;\n",
              "      display: none;\n",
              "      fill: #1967D2;\n",
              "      height: 32px;\n",
              "      padding: 0 0 0 0;\n",
              "      width: 32px;\n",
              "    }\n",
              "\n",
              "    .colab-df-convert:hover {\n",
              "      background-color: #E2EBFA;\n",
              "      box-shadow: 0px 1px 2px rgba(60, 64, 67, 0.3), 0px 1px 3px 1px rgba(60, 64, 67, 0.15);\n",
              "      fill: #174EA6;\n",
              "    }\n",
              "\n",
              "    [theme=dark] .colab-df-convert {\n",
              "      background-color: #3B4455;\n",
              "      fill: #D2E3FC;\n",
              "    }\n",
              "\n",
              "    [theme=dark] .colab-df-convert:hover {\n",
              "      background-color: #434B5C;\n",
              "      box-shadow: 0px 1px 3px 1px rgba(0, 0, 0, 0.15);\n",
              "      filter: drop-shadow(0px 1px 2px rgba(0, 0, 0, 0.3));\n",
              "      fill: #FFFFFF;\n",
              "    }\n",
              "  </style>\n",
              "\n",
              "      <script>\n",
              "        const buttonEl =\n",
              "          document.querySelector('#df-956fa3bb-d18e-46c6-b8b0-6b74247da216 button.colab-df-convert');\n",
              "        buttonEl.style.display =\n",
              "          google.colab.kernel.accessAllowed ? 'block' : 'none';\n",
              "\n",
              "        async function convertToInteractive(key) {\n",
              "          const element = document.querySelector('#df-956fa3bb-d18e-46c6-b8b0-6b74247da216');\n",
              "          const dataTable =\n",
              "            await google.colab.kernel.invokeFunction('convertToInteractive',\n",
              "                                                     [key], {});\n",
              "          if (!dataTable) return;\n",
              "\n",
              "          const docLinkHtml = 'Like what you see? Visit the ' +\n",
              "            '<a target=\"_blank\" href=https://colab.research.google.com/notebooks/data_table.ipynb>data table notebook</a>'\n",
              "            + ' to learn more about interactive tables.';\n",
              "          element.innerHTML = '';\n",
              "          dataTable['output_type'] = 'display_data';\n",
              "          await google.colab.output.renderOutput(dataTable, element);\n",
              "          const docLink = document.createElement('div');\n",
              "          docLink.innerHTML = docLinkHtml;\n",
              "          element.appendChild(docLink);\n",
              "        }\n",
              "      </script>\n",
              "    </div>\n",
              "  </div>\n",
              "  "
            ]
          },
          "metadata": {},
          "execution_count": 51
        }
      ]
    },
    {
      "cell_type": "code",
      "source": [
        "#variables que contiene el data frame\n",
        "autos.columns"
      ],
      "metadata": {
        "id": "xGCEG9te-MHL",
        "colab": {
          "base_uri": "https://localhost:8080/"
        },
        "outputId": "ebddeb0d-d3bf-4e98-bb2d-19f227e088fa"
      },
      "execution_count": 52,
      "outputs": [
        {
          "output_type": "execute_result",
          "data": {
            "text/plain": [
              "Index(['Millas_Por_Galon', 'Cilindros', 'Pais_Origen', 'Peso_En_Libras',\n",
              "       'Desplazamiento', 'Aceleracion', 'Nombre', 'Anyo', 'Caballo_De_Fuerza'],\n",
              "      dtype='object')"
            ]
          },
          "metadata": {},
          "execution_count": 52
        }
      ]
    },
    {
      "cell_type": "code",
      "source": [
        "#Vemos el número de filas y el número de columnas que contiene el dataframe\n",
        "autos.shape\n",
        "\n",
        "#Podemos observar que hay 9 variables con 406 registros "
      ],
      "metadata": {
        "colab": {
          "base_uri": "https://localhost:8080/"
        },
        "id": "LNTkFMxdGgiZ",
        "outputId": "c721f622-35d2-48d0-eba0-4d9f15e9c416"
      },
      "execution_count": 53,
      "outputs": [
        {
          "output_type": "execute_result",
          "data": {
            "text/plain": [
              "(406, 9)"
            ]
          },
          "metadata": {},
          "execution_count": 53
        }
      ]
    },
    {
      "cell_type": "code",
      "source": [
        "#Podemos de ver que Millas_Por_Galon y Caballo_De_Fuerza tienen registros son nulos\n",
        "autos.isnull().sum()"
      ],
      "metadata": {
        "colab": {
          "base_uri": "https://localhost:8080/"
        },
        "id": "nMSeI4msvy1D",
        "outputId": "f0c9f5d3-7fa3-4198-e8bb-4d27f394f5e3"
      },
      "execution_count": 54,
      "outputs": [
        {
          "output_type": "execute_result",
          "data": {
            "text/plain": [
              "Millas_Por_Galon     8\n",
              "Cilindros            0\n",
              "Pais_Origen          0\n",
              "Peso_En_Libras       0\n",
              "Desplazamiento       0\n",
              "Aceleracion          0\n",
              "Nombre               0\n",
              "Anyo                 0\n",
              "Caballo_De_Fuerza    6\n",
              "dtype: int64"
            ]
          },
          "metadata": {},
          "execution_count": 54
        }
      ]
    },
    {
      "cell_type": "code",
      "source": [
        "#Todas las variables, el tipo y los datos nulos y no nulos que contiene\n",
        "autos.info()\n",
        "\n",
        "#la variable Millas_Por_Galon, por ejemplo, contiene (406-398) 8 valores nulos y está registrado como un número decimal float64"
      ],
      "metadata": {
        "colab": {
          "base_uri": "https://localhost:8080/"
        },
        "id": "Qf-_nVCyGj3s",
        "outputId": "dda1795e-1d68-40ca-eb90-8b7df8d8b021"
      },
      "execution_count": 55,
      "outputs": [
        {
          "output_type": "stream",
          "name": "stdout",
          "text": [
            "<class 'pandas.core.frame.DataFrame'>\n",
            "RangeIndex: 406 entries, 0 to 405\n",
            "Data columns (total 9 columns):\n",
            " #   Column             Non-Null Count  Dtype  \n",
            "---  ------             --------------  -----  \n",
            " 0   Millas_Por_Galon   398 non-null    float64\n",
            " 1   Cilindros          406 non-null    int64  \n",
            " 2   Pais_Origen        406 non-null    object \n",
            " 3   Peso_En_Libras     406 non-null    int64  \n",
            " 4   Desplazamiento     406 non-null    float64\n",
            " 5   Aceleracion        406 non-null    float64\n",
            " 6   Nombre             406 non-null    object \n",
            " 7   Anyo               406 non-null    object \n",
            " 8   Caballo_De_Fuerza  400 non-null    float64\n",
            "dtypes: float64(4), int64(2), object(3)\n",
            "memory usage: 28.7+ KB\n"
          ]
        }
      ]
    },
    {
      "cell_type": "code",
      "source": [
        "#Tipo de variables\n",
        "autos.dtypes"
      ],
      "metadata": {
        "colab": {
          "base_uri": "https://localhost:8080/"
        },
        "id": "iTUfVCrdHEDh",
        "outputId": "94bfef96-32b8-4bd1-b980-ca0af03e61e4"
      },
      "execution_count": 56,
      "outputs": [
        {
          "output_type": "execute_result",
          "data": {
            "text/plain": [
              "Millas_Por_Galon     float64\n",
              "Cilindros              int64\n",
              "Pais_Origen           object\n",
              "Peso_En_Libras         int64\n",
              "Desplazamiento       float64\n",
              "Aceleracion          float64\n",
              "Nombre                object\n",
              "Anyo                  object\n",
              "Caballo_De_Fuerza    float64\n",
              "dtype: object"
            ]
          },
          "metadata": {},
          "execution_count": 56
        }
      ]
    },
    {
      "cell_type": "code",
      "source": [
        "#Estadísticas de las columnas numéricas \n",
        "autos.describe()"
      ],
      "metadata": {
        "colab": {
          "base_uri": "https://localhost:8080/",
          "height": 300
        },
        "id": "-2G9lpnWIpcK",
        "outputId": "09628fc5-ea95-47e2-ff1f-1b9f1c2d3787"
      },
      "execution_count": 57,
      "outputs": [
        {
          "output_type": "execute_result",
          "data": {
            "text/plain": [
              "       Millas_Por_Galon   Cilindros  Peso_En_Libras  Desplazamiento  \\\n",
              "count        398.000000  406.000000      406.000000      406.000000   \n",
              "mean          23.514573    5.475369     2979.413793      194.779557   \n",
              "std            7.815984    1.712160      847.004328      104.922458   \n",
              "min            9.000000    3.000000     1613.000000       68.000000   \n",
              "25%           17.500000    4.000000     2226.500000      105.000000   \n",
              "50%           23.000000    4.000000     2822.500000      151.000000   \n",
              "75%           29.000000    8.000000     3618.250000      302.000000   \n",
              "max           46.600000    8.000000     5140.000000      455.000000   \n",
              "\n",
              "       Aceleracion  Caballo_De_Fuerza  \n",
              "count   406.000000         400.000000  \n",
              "mean     15.519704         105.082500  \n",
              "std       2.803359          38.768779  \n",
              "min       8.000000          46.000000  \n",
              "25%      13.700000          75.750000  \n",
              "50%      15.500000          95.000000  \n",
              "75%      17.175000         130.000000  \n",
              "max      24.800000         230.000000  "
            ],
            "text/html": [
              "\n",
              "  <div id=\"df-7d0bfca7-3bcf-4885-ae0a-aac2a2c48b40\">\n",
              "    <div class=\"colab-df-container\">\n",
              "      <div>\n",
              "<style scoped>\n",
              "    .dataframe tbody tr th:only-of-type {\n",
              "        vertical-align: middle;\n",
              "    }\n",
              "\n",
              "    .dataframe tbody tr th {\n",
              "        vertical-align: top;\n",
              "    }\n",
              "\n",
              "    .dataframe thead th {\n",
              "        text-align: right;\n",
              "    }\n",
              "</style>\n",
              "<table border=\"1\" class=\"dataframe\">\n",
              "  <thead>\n",
              "    <tr style=\"text-align: right;\">\n",
              "      <th></th>\n",
              "      <th>Millas_Por_Galon</th>\n",
              "      <th>Cilindros</th>\n",
              "      <th>Peso_En_Libras</th>\n",
              "      <th>Desplazamiento</th>\n",
              "      <th>Aceleracion</th>\n",
              "      <th>Caballo_De_Fuerza</th>\n",
              "    </tr>\n",
              "  </thead>\n",
              "  <tbody>\n",
              "    <tr>\n",
              "      <th>count</th>\n",
              "      <td>398.000000</td>\n",
              "      <td>406.000000</td>\n",
              "      <td>406.000000</td>\n",
              "      <td>406.000000</td>\n",
              "      <td>406.000000</td>\n",
              "      <td>400.000000</td>\n",
              "    </tr>\n",
              "    <tr>\n",
              "      <th>mean</th>\n",
              "      <td>23.514573</td>\n",
              "      <td>5.475369</td>\n",
              "      <td>2979.413793</td>\n",
              "      <td>194.779557</td>\n",
              "      <td>15.519704</td>\n",
              "      <td>105.082500</td>\n",
              "    </tr>\n",
              "    <tr>\n",
              "      <th>std</th>\n",
              "      <td>7.815984</td>\n",
              "      <td>1.712160</td>\n",
              "      <td>847.004328</td>\n",
              "      <td>104.922458</td>\n",
              "      <td>2.803359</td>\n",
              "      <td>38.768779</td>\n",
              "    </tr>\n",
              "    <tr>\n",
              "      <th>min</th>\n",
              "      <td>9.000000</td>\n",
              "      <td>3.000000</td>\n",
              "      <td>1613.000000</td>\n",
              "      <td>68.000000</td>\n",
              "      <td>8.000000</td>\n",
              "      <td>46.000000</td>\n",
              "    </tr>\n",
              "    <tr>\n",
              "      <th>25%</th>\n",
              "      <td>17.500000</td>\n",
              "      <td>4.000000</td>\n",
              "      <td>2226.500000</td>\n",
              "      <td>105.000000</td>\n",
              "      <td>13.700000</td>\n",
              "      <td>75.750000</td>\n",
              "    </tr>\n",
              "    <tr>\n",
              "      <th>50%</th>\n",
              "      <td>23.000000</td>\n",
              "      <td>4.000000</td>\n",
              "      <td>2822.500000</td>\n",
              "      <td>151.000000</td>\n",
              "      <td>15.500000</td>\n",
              "      <td>95.000000</td>\n",
              "    </tr>\n",
              "    <tr>\n",
              "      <th>75%</th>\n",
              "      <td>29.000000</td>\n",
              "      <td>8.000000</td>\n",
              "      <td>3618.250000</td>\n",
              "      <td>302.000000</td>\n",
              "      <td>17.175000</td>\n",
              "      <td>130.000000</td>\n",
              "    </tr>\n",
              "    <tr>\n",
              "      <th>max</th>\n",
              "      <td>46.600000</td>\n",
              "      <td>8.000000</td>\n",
              "      <td>5140.000000</td>\n",
              "      <td>455.000000</td>\n",
              "      <td>24.800000</td>\n",
              "      <td>230.000000</td>\n",
              "    </tr>\n",
              "  </tbody>\n",
              "</table>\n",
              "</div>\n",
              "      <button class=\"colab-df-convert\" onclick=\"convertToInteractive('df-7d0bfca7-3bcf-4885-ae0a-aac2a2c48b40')\"\n",
              "              title=\"Convert this dataframe to an interactive table.\"\n",
              "              style=\"display:none;\">\n",
              "        \n",
              "  <svg xmlns=\"http://www.w3.org/2000/svg\" height=\"24px\"viewBox=\"0 0 24 24\"\n",
              "       width=\"24px\">\n",
              "    <path d=\"M0 0h24v24H0V0z\" fill=\"none\"/>\n",
              "    <path d=\"M18.56 5.44l.94 2.06.94-2.06 2.06-.94-2.06-.94-.94-2.06-.94 2.06-2.06.94zm-11 1L8.5 8.5l.94-2.06 2.06-.94-2.06-.94L8.5 2.5l-.94 2.06-2.06.94zm10 10l.94 2.06.94-2.06 2.06-.94-2.06-.94-.94-2.06-.94 2.06-2.06.94z\"/><path d=\"M17.41 7.96l-1.37-1.37c-.4-.4-.92-.59-1.43-.59-.52 0-1.04.2-1.43.59L10.3 9.45l-7.72 7.72c-.78.78-.78 2.05 0 2.83L4 21.41c.39.39.9.59 1.41.59.51 0 1.02-.2 1.41-.59l7.78-7.78 2.81-2.81c.8-.78.8-2.07 0-2.86zM5.41 20L4 18.59l7.72-7.72 1.47 1.35L5.41 20z\"/>\n",
              "  </svg>\n",
              "      </button>\n",
              "      \n",
              "  <style>\n",
              "    .colab-df-container {\n",
              "      display:flex;\n",
              "      flex-wrap:wrap;\n",
              "      gap: 12px;\n",
              "    }\n",
              "\n",
              "    .colab-df-convert {\n",
              "      background-color: #E8F0FE;\n",
              "      border: none;\n",
              "      border-radius: 50%;\n",
              "      cursor: pointer;\n",
              "      display: none;\n",
              "      fill: #1967D2;\n",
              "      height: 32px;\n",
              "      padding: 0 0 0 0;\n",
              "      width: 32px;\n",
              "    }\n",
              "\n",
              "    .colab-df-convert:hover {\n",
              "      background-color: #E2EBFA;\n",
              "      box-shadow: 0px 1px 2px rgba(60, 64, 67, 0.3), 0px 1px 3px 1px rgba(60, 64, 67, 0.15);\n",
              "      fill: #174EA6;\n",
              "    }\n",
              "\n",
              "    [theme=dark] .colab-df-convert {\n",
              "      background-color: #3B4455;\n",
              "      fill: #D2E3FC;\n",
              "    }\n",
              "\n",
              "    [theme=dark] .colab-df-convert:hover {\n",
              "      background-color: #434B5C;\n",
              "      box-shadow: 0px 1px 3px 1px rgba(0, 0, 0, 0.15);\n",
              "      filter: drop-shadow(0px 1px 2px rgba(0, 0, 0, 0.3));\n",
              "      fill: #FFFFFF;\n",
              "    }\n",
              "  </style>\n",
              "\n",
              "      <script>\n",
              "        const buttonEl =\n",
              "          document.querySelector('#df-7d0bfca7-3bcf-4885-ae0a-aac2a2c48b40 button.colab-df-convert');\n",
              "        buttonEl.style.display =\n",
              "          google.colab.kernel.accessAllowed ? 'block' : 'none';\n",
              "\n",
              "        async function convertToInteractive(key) {\n",
              "          const element = document.querySelector('#df-7d0bfca7-3bcf-4885-ae0a-aac2a2c48b40');\n",
              "          const dataTable =\n",
              "            await google.colab.kernel.invokeFunction('convertToInteractive',\n",
              "                                                     [key], {});\n",
              "          if (!dataTable) return;\n",
              "\n",
              "          const docLinkHtml = 'Like what you see? Visit the ' +\n",
              "            '<a target=\"_blank\" href=https://colab.research.google.com/notebooks/data_table.ipynb>data table notebook</a>'\n",
              "            + ' to learn more about interactive tables.';\n",
              "          element.innerHTML = '';\n",
              "          dataTable['output_type'] = 'display_data';\n",
              "          await google.colab.output.renderOutput(dataTable, element);\n",
              "          const docLink = document.createElement('div');\n",
              "          docLink.innerHTML = docLinkHtml;\n",
              "          element.appendChild(docLink);\n",
              "        }\n",
              "      </script>\n",
              "    </div>\n",
              "  </div>\n",
              "  "
            ]
          },
          "metadata": {},
          "execution_count": 57
        }
      ]
    },
    {
      "cell_type": "code",
      "source": [
        "#Borramos los datos nulos ya que son pocos\n",
        "autos = autos.dropna()"
      ],
      "metadata": {
        "id": "D2xHslalwPEw"
      },
      "execution_count": 58,
      "outputs": []
    },
    {
      "cell_type": "code",
      "source": [
        "#Estadísticas de las columnas numéricas después de borrar nulos \n",
        "autos.describe()\n",
        "\n",
        "#Observamos no afectan significativamente a las medidas de tendencia central ni a los cuartiles"
      ],
      "metadata": {
        "colab": {
          "base_uri": "https://localhost:8080/",
          "height": 300
        },
        "id": "AXoy5o-cwkU1",
        "outputId": "948ff06c-6fe3-4b7f-9db0-dc00fdaf5b27"
      },
      "execution_count": 59,
      "outputs": [
        {
          "output_type": "execute_result",
          "data": {
            "text/plain": [
              "       Millas_Por_Galon   Cilindros  Peso_En_Libras  Desplazamiento  \\\n",
              "count        392.000000  392.000000      392.000000      392.000000   \n",
              "mean          23.445918    5.471939     2977.584184      194.411990   \n",
              "std            7.805007    1.705783      849.402560      104.644004   \n",
              "min            9.000000    3.000000     1613.000000       68.000000   \n",
              "25%           17.000000    4.000000     2225.250000      105.000000   \n",
              "50%           22.750000    4.000000     2803.500000      151.000000   \n",
              "75%           29.000000    8.000000     3614.750000      275.750000   \n",
              "max           46.600000    8.000000     5140.000000      455.000000   \n",
              "\n",
              "       Aceleracion  Caballo_De_Fuerza  \n",
              "count   392.000000         392.000000  \n",
              "mean     15.541327         104.469388  \n",
              "std       2.758864          38.491160  \n",
              "min       8.000000          46.000000  \n",
              "25%      13.775000          75.000000  \n",
              "50%      15.500000          93.500000  \n",
              "75%      17.025000         126.000000  \n",
              "max      24.800000         230.000000  "
            ],
            "text/html": [
              "\n",
              "  <div id=\"df-13453982-e7e8-4ca3-abdf-7144f6f187c9\">\n",
              "    <div class=\"colab-df-container\">\n",
              "      <div>\n",
              "<style scoped>\n",
              "    .dataframe tbody tr th:only-of-type {\n",
              "        vertical-align: middle;\n",
              "    }\n",
              "\n",
              "    .dataframe tbody tr th {\n",
              "        vertical-align: top;\n",
              "    }\n",
              "\n",
              "    .dataframe thead th {\n",
              "        text-align: right;\n",
              "    }\n",
              "</style>\n",
              "<table border=\"1\" class=\"dataframe\">\n",
              "  <thead>\n",
              "    <tr style=\"text-align: right;\">\n",
              "      <th></th>\n",
              "      <th>Millas_Por_Galon</th>\n",
              "      <th>Cilindros</th>\n",
              "      <th>Peso_En_Libras</th>\n",
              "      <th>Desplazamiento</th>\n",
              "      <th>Aceleracion</th>\n",
              "      <th>Caballo_De_Fuerza</th>\n",
              "    </tr>\n",
              "  </thead>\n",
              "  <tbody>\n",
              "    <tr>\n",
              "      <th>count</th>\n",
              "      <td>392.000000</td>\n",
              "      <td>392.000000</td>\n",
              "      <td>392.000000</td>\n",
              "      <td>392.000000</td>\n",
              "      <td>392.000000</td>\n",
              "      <td>392.000000</td>\n",
              "    </tr>\n",
              "    <tr>\n",
              "      <th>mean</th>\n",
              "      <td>23.445918</td>\n",
              "      <td>5.471939</td>\n",
              "      <td>2977.584184</td>\n",
              "      <td>194.411990</td>\n",
              "      <td>15.541327</td>\n",
              "      <td>104.469388</td>\n",
              "    </tr>\n",
              "    <tr>\n",
              "      <th>std</th>\n",
              "      <td>7.805007</td>\n",
              "      <td>1.705783</td>\n",
              "      <td>849.402560</td>\n",
              "      <td>104.644004</td>\n",
              "      <td>2.758864</td>\n",
              "      <td>38.491160</td>\n",
              "    </tr>\n",
              "    <tr>\n",
              "      <th>min</th>\n",
              "      <td>9.000000</td>\n",
              "      <td>3.000000</td>\n",
              "      <td>1613.000000</td>\n",
              "      <td>68.000000</td>\n",
              "      <td>8.000000</td>\n",
              "      <td>46.000000</td>\n",
              "    </tr>\n",
              "    <tr>\n",
              "      <th>25%</th>\n",
              "      <td>17.000000</td>\n",
              "      <td>4.000000</td>\n",
              "      <td>2225.250000</td>\n",
              "      <td>105.000000</td>\n",
              "      <td>13.775000</td>\n",
              "      <td>75.000000</td>\n",
              "    </tr>\n",
              "    <tr>\n",
              "      <th>50%</th>\n",
              "      <td>22.750000</td>\n",
              "      <td>4.000000</td>\n",
              "      <td>2803.500000</td>\n",
              "      <td>151.000000</td>\n",
              "      <td>15.500000</td>\n",
              "      <td>93.500000</td>\n",
              "    </tr>\n",
              "    <tr>\n",
              "      <th>75%</th>\n",
              "      <td>29.000000</td>\n",
              "      <td>8.000000</td>\n",
              "      <td>3614.750000</td>\n",
              "      <td>275.750000</td>\n",
              "      <td>17.025000</td>\n",
              "      <td>126.000000</td>\n",
              "    </tr>\n",
              "    <tr>\n",
              "      <th>max</th>\n",
              "      <td>46.600000</td>\n",
              "      <td>8.000000</td>\n",
              "      <td>5140.000000</td>\n",
              "      <td>455.000000</td>\n",
              "      <td>24.800000</td>\n",
              "      <td>230.000000</td>\n",
              "    </tr>\n",
              "  </tbody>\n",
              "</table>\n",
              "</div>\n",
              "      <button class=\"colab-df-convert\" onclick=\"convertToInteractive('df-13453982-e7e8-4ca3-abdf-7144f6f187c9')\"\n",
              "              title=\"Convert this dataframe to an interactive table.\"\n",
              "              style=\"display:none;\">\n",
              "        \n",
              "  <svg xmlns=\"http://www.w3.org/2000/svg\" height=\"24px\"viewBox=\"0 0 24 24\"\n",
              "       width=\"24px\">\n",
              "    <path d=\"M0 0h24v24H0V0z\" fill=\"none\"/>\n",
              "    <path d=\"M18.56 5.44l.94 2.06.94-2.06 2.06-.94-2.06-.94-.94-2.06-.94 2.06-2.06.94zm-11 1L8.5 8.5l.94-2.06 2.06-.94-2.06-.94L8.5 2.5l-.94 2.06-2.06.94zm10 10l.94 2.06.94-2.06 2.06-.94-2.06-.94-.94-2.06-.94 2.06-2.06.94z\"/><path d=\"M17.41 7.96l-1.37-1.37c-.4-.4-.92-.59-1.43-.59-.52 0-1.04.2-1.43.59L10.3 9.45l-7.72 7.72c-.78.78-.78 2.05 0 2.83L4 21.41c.39.39.9.59 1.41.59.51 0 1.02-.2 1.41-.59l7.78-7.78 2.81-2.81c.8-.78.8-2.07 0-2.86zM5.41 20L4 18.59l7.72-7.72 1.47 1.35L5.41 20z\"/>\n",
              "  </svg>\n",
              "      </button>\n",
              "      \n",
              "  <style>\n",
              "    .colab-df-container {\n",
              "      display:flex;\n",
              "      flex-wrap:wrap;\n",
              "      gap: 12px;\n",
              "    }\n",
              "\n",
              "    .colab-df-convert {\n",
              "      background-color: #E8F0FE;\n",
              "      border: none;\n",
              "      border-radius: 50%;\n",
              "      cursor: pointer;\n",
              "      display: none;\n",
              "      fill: #1967D2;\n",
              "      height: 32px;\n",
              "      padding: 0 0 0 0;\n",
              "      width: 32px;\n",
              "    }\n",
              "\n",
              "    .colab-df-convert:hover {\n",
              "      background-color: #E2EBFA;\n",
              "      box-shadow: 0px 1px 2px rgba(60, 64, 67, 0.3), 0px 1px 3px 1px rgba(60, 64, 67, 0.15);\n",
              "      fill: #174EA6;\n",
              "    }\n",
              "\n",
              "    [theme=dark] .colab-df-convert {\n",
              "      background-color: #3B4455;\n",
              "      fill: #D2E3FC;\n",
              "    }\n",
              "\n",
              "    [theme=dark] .colab-df-convert:hover {\n",
              "      background-color: #434B5C;\n",
              "      box-shadow: 0px 1px 3px 1px rgba(0, 0, 0, 0.15);\n",
              "      filter: drop-shadow(0px 1px 2px rgba(0, 0, 0, 0.3));\n",
              "      fill: #FFFFFF;\n",
              "    }\n",
              "  </style>\n",
              "\n",
              "      <script>\n",
              "        const buttonEl =\n",
              "          document.querySelector('#df-13453982-e7e8-4ca3-abdf-7144f6f187c9 button.colab-df-convert');\n",
              "        buttonEl.style.display =\n",
              "          google.colab.kernel.accessAllowed ? 'block' : 'none';\n",
              "\n",
              "        async function convertToInteractive(key) {\n",
              "          const element = document.querySelector('#df-13453982-e7e8-4ca3-abdf-7144f6f187c9');\n",
              "          const dataTable =\n",
              "            await google.colab.kernel.invokeFunction('convertToInteractive',\n",
              "                                                     [key], {});\n",
              "          if (!dataTable) return;\n",
              "\n",
              "          const docLinkHtml = 'Like what you see? Visit the ' +\n",
              "            '<a target=\"_blank\" href=https://colab.research.google.com/notebooks/data_table.ipynb>data table notebook</a>'\n",
              "            + ' to learn more about interactive tables.';\n",
              "          element.innerHTML = '';\n",
              "          dataTable['output_type'] = 'display_data';\n",
              "          await google.colab.output.renderOutput(dataTable, element);\n",
              "          const docLink = document.createElement('div');\n",
              "          docLink.innerHTML = docLinkHtml;\n",
              "          element.appendChild(docLink);\n",
              "        }\n",
              "      </script>\n",
              "    </div>\n",
              "  </div>\n",
              "  "
            ]
          },
          "metadata": {},
          "execution_count": 59
        }
      ]
    },
    {
      "cell_type": "code",
      "source": [
        "#Quitamos los duplicados \n",
        "autos = autos.drop_duplicates()\n",
        "\n",
        "#Notamos que nos quedamos con la misma cantidad de registros NO nulos, por lo que no habían duplicados  \n",
        "len(autos)"
      ],
      "metadata": {
        "colab": {
          "base_uri": "https://localhost:8080/"
        },
        "id": "dpy_pZMeuSQ4",
        "outputId": "274a742d-d467-4c4f-85a1-d906f22a81cd"
      },
      "execution_count": 60,
      "outputs": [
        {
          "output_type": "execute_result",
          "data": {
            "text/plain": [
              "392"
            ]
          },
          "metadata": {},
          "execution_count": 60
        }
      ]
    },
    {
      "cell_type": "markdown",
      "source": [
        "\n",
        "\n",
        "## NUEVAS VARIABLES NUMÉRICAS\n",
        "* Generar 5 nuevas variables aplicando los siguientes criterios con las variables numéricas:\n",
        "\n",
        "\n",
        "1.   Log10(var1/var2)\n",
        "2.   Sqrt(var1)*exp(var2)/200\n",
        "3. Si var 1 > var 2 → 5, caso contrario 3\n",
        "4. 1/logn(var1/var2)*100\n",
        "5. var2**2/var1\n"
      ],
      "metadata": {
        "id": "0jzD9hvUPzdp"
      }
    },
    {
      "cell_type": "code",
      "source": [
        "#1\n",
        "autos['ajuste1'] = np.log10(autos['Desplazamiento']/autos['Peso_En_Libras'])\n",
        "#2\n",
        "autos['ajuste2'] = np.sqrt(autos['Peso_En_Libras']) * np.exp(autos['Desplazamiento'])/200\n",
        "#3\n",
        "autos['ajuste3'] = np.where(autos['Millas_Por_Galon'] > autos['Cilindros'], 5, 3)\n",
        "#4\n",
        "autos['ajuste4'] = 1 / np.log2(autos['Millas_Por_Galon']/autos['Aceleracion']) * 100\n",
        "#5\n",
        "autos['ajuste5'] = autos['Millas_Por_Galon']**2 /autos['Aceleracion']"
      ],
      "metadata": {
        "id": "KnDeDJNWQ7Ii"
      },
      "execution_count": 61,
      "outputs": []
    },
    {
      "cell_type": "code",
      "source": [
        "#Así queda el nuevo DataFrame con las variables agregadas\n",
        "autos.head()"
      ],
      "metadata": {
        "colab": {
          "base_uri": "https://localhost:8080/",
          "height": 392
        },
        "id": "nC10rnNBcgms",
        "outputId": "e445b87a-ed29-427d-9704-19f56af3b98e"
      },
      "execution_count": 62,
      "outputs": [
        {
          "output_type": "execute_result",
          "data": {
            "text/plain": [
              "   Millas_Por_Galon  Cilindros Pais_Origen  Peso_En_Libras  Desplazamiento  \\\n",
              "0              18.0          8           1            3504           307.0   \n",
              "1              15.0          8           1            3693           350.0   \n",
              "2              18.0          8           1            3436           318.0   \n",
              "3              16.0          8           1            3433           304.0   \n",
              "4              17.0          8           1            3449           302.0   \n",
              "\n",
              "   Aceleracion                     Nombre        Anyo  Caballo_De_Fuerza  \\\n",
              "0         12.0  chevrolet chevelle malibu  01/01/1970              130.0   \n",
              "1         11.5          buick skylark 320  01/01/1970              165.0   \n",
              "2         11.0         plymouth satellite  01/01/1970              150.0   \n",
              "3         12.0              amc rebel sst  01/01/1970              150.0   \n",
              "4         10.5                ford torino  01/01/1970              140.0   \n",
              "\n",
              "    ajuste1        ajuste2  ajuste3     ajuste4    ajuste5  \n",
              "0 -1.057426  6.304607e+132        5  170.951129  27.000000  \n",
              "1 -1.023311  3.060049e+151        5  260.872760  19.565217  \n",
              "2 -1.033626  3.738022e+137        5  140.747264  29.454545  \n",
              "3 -1.052800  3.106915e+131        5  240.942084  21.333333  \n",
              "4 -1.057686  4.214540e+130        5  143.854793  27.523810  "
            ],
            "text/html": [
              "\n",
              "  <div id=\"df-c39400f4-2ba7-4af9-bf18-dba2debbf88b\">\n",
              "    <div class=\"colab-df-container\">\n",
              "      <div>\n",
              "<style scoped>\n",
              "    .dataframe tbody tr th:only-of-type {\n",
              "        vertical-align: middle;\n",
              "    }\n",
              "\n",
              "    .dataframe tbody tr th {\n",
              "        vertical-align: top;\n",
              "    }\n",
              "\n",
              "    .dataframe thead th {\n",
              "        text-align: right;\n",
              "    }\n",
              "</style>\n",
              "<table border=\"1\" class=\"dataframe\">\n",
              "  <thead>\n",
              "    <tr style=\"text-align: right;\">\n",
              "      <th></th>\n",
              "      <th>Millas_Por_Galon</th>\n",
              "      <th>Cilindros</th>\n",
              "      <th>Pais_Origen</th>\n",
              "      <th>Peso_En_Libras</th>\n",
              "      <th>Desplazamiento</th>\n",
              "      <th>Aceleracion</th>\n",
              "      <th>Nombre</th>\n",
              "      <th>Anyo</th>\n",
              "      <th>Caballo_De_Fuerza</th>\n",
              "      <th>ajuste1</th>\n",
              "      <th>ajuste2</th>\n",
              "      <th>ajuste3</th>\n",
              "      <th>ajuste4</th>\n",
              "      <th>ajuste5</th>\n",
              "    </tr>\n",
              "  </thead>\n",
              "  <tbody>\n",
              "    <tr>\n",
              "      <th>0</th>\n",
              "      <td>18.0</td>\n",
              "      <td>8</td>\n",
              "      <td>1</td>\n",
              "      <td>3504</td>\n",
              "      <td>307.0</td>\n",
              "      <td>12.0</td>\n",
              "      <td>chevrolet chevelle malibu</td>\n",
              "      <td>01/01/1970</td>\n",
              "      <td>130.0</td>\n",
              "      <td>-1.057426</td>\n",
              "      <td>6.304607e+132</td>\n",
              "      <td>5</td>\n",
              "      <td>170.951129</td>\n",
              "      <td>27.000000</td>\n",
              "    </tr>\n",
              "    <tr>\n",
              "      <th>1</th>\n",
              "      <td>15.0</td>\n",
              "      <td>8</td>\n",
              "      <td>1</td>\n",
              "      <td>3693</td>\n",
              "      <td>350.0</td>\n",
              "      <td>11.5</td>\n",
              "      <td>buick skylark 320</td>\n",
              "      <td>01/01/1970</td>\n",
              "      <td>165.0</td>\n",
              "      <td>-1.023311</td>\n",
              "      <td>3.060049e+151</td>\n",
              "      <td>5</td>\n",
              "      <td>260.872760</td>\n",
              "      <td>19.565217</td>\n",
              "    </tr>\n",
              "    <tr>\n",
              "      <th>2</th>\n",
              "      <td>18.0</td>\n",
              "      <td>8</td>\n",
              "      <td>1</td>\n",
              "      <td>3436</td>\n",
              "      <td>318.0</td>\n",
              "      <td>11.0</td>\n",
              "      <td>plymouth satellite</td>\n",
              "      <td>01/01/1970</td>\n",
              "      <td>150.0</td>\n",
              "      <td>-1.033626</td>\n",
              "      <td>3.738022e+137</td>\n",
              "      <td>5</td>\n",
              "      <td>140.747264</td>\n",
              "      <td>29.454545</td>\n",
              "    </tr>\n",
              "    <tr>\n",
              "      <th>3</th>\n",
              "      <td>16.0</td>\n",
              "      <td>8</td>\n",
              "      <td>1</td>\n",
              "      <td>3433</td>\n",
              "      <td>304.0</td>\n",
              "      <td>12.0</td>\n",
              "      <td>amc rebel sst</td>\n",
              "      <td>01/01/1970</td>\n",
              "      <td>150.0</td>\n",
              "      <td>-1.052800</td>\n",
              "      <td>3.106915e+131</td>\n",
              "      <td>5</td>\n",
              "      <td>240.942084</td>\n",
              "      <td>21.333333</td>\n",
              "    </tr>\n",
              "    <tr>\n",
              "      <th>4</th>\n",
              "      <td>17.0</td>\n",
              "      <td>8</td>\n",
              "      <td>1</td>\n",
              "      <td>3449</td>\n",
              "      <td>302.0</td>\n",
              "      <td>10.5</td>\n",
              "      <td>ford torino</td>\n",
              "      <td>01/01/1970</td>\n",
              "      <td>140.0</td>\n",
              "      <td>-1.057686</td>\n",
              "      <td>4.214540e+130</td>\n",
              "      <td>5</td>\n",
              "      <td>143.854793</td>\n",
              "      <td>27.523810</td>\n",
              "    </tr>\n",
              "  </tbody>\n",
              "</table>\n",
              "</div>\n",
              "      <button class=\"colab-df-convert\" onclick=\"convertToInteractive('df-c39400f4-2ba7-4af9-bf18-dba2debbf88b')\"\n",
              "              title=\"Convert this dataframe to an interactive table.\"\n",
              "              style=\"display:none;\">\n",
              "        \n",
              "  <svg xmlns=\"http://www.w3.org/2000/svg\" height=\"24px\"viewBox=\"0 0 24 24\"\n",
              "       width=\"24px\">\n",
              "    <path d=\"M0 0h24v24H0V0z\" fill=\"none\"/>\n",
              "    <path d=\"M18.56 5.44l.94 2.06.94-2.06 2.06-.94-2.06-.94-.94-2.06-.94 2.06-2.06.94zm-11 1L8.5 8.5l.94-2.06 2.06-.94-2.06-.94L8.5 2.5l-.94 2.06-2.06.94zm10 10l.94 2.06.94-2.06 2.06-.94-2.06-.94-.94-2.06-.94 2.06-2.06.94z\"/><path d=\"M17.41 7.96l-1.37-1.37c-.4-.4-.92-.59-1.43-.59-.52 0-1.04.2-1.43.59L10.3 9.45l-7.72 7.72c-.78.78-.78 2.05 0 2.83L4 21.41c.39.39.9.59 1.41.59.51 0 1.02-.2 1.41-.59l7.78-7.78 2.81-2.81c.8-.78.8-2.07 0-2.86zM5.41 20L4 18.59l7.72-7.72 1.47 1.35L5.41 20z\"/>\n",
              "  </svg>\n",
              "      </button>\n",
              "      \n",
              "  <style>\n",
              "    .colab-df-container {\n",
              "      display:flex;\n",
              "      flex-wrap:wrap;\n",
              "      gap: 12px;\n",
              "    }\n",
              "\n",
              "    .colab-df-convert {\n",
              "      background-color: #E8F0FE;\n",
              "      border: none;\n",
              "      border-radius: 50%;\n",
              "      cursor: pointer;\n",
              "      display: none;\n",
              "      fill: #1967D2;\n",
              "      height: 32px;\n",
              "      padding: 0 0 0 0;\n",
              "      width: 32px;\n",
              "    }\n",
              "\n",
              "    .colab-df-convert:hover {\n",
              "      background-color: #E2EBFA;\n",
              "      box-shadow: 0px 1px 2px rgba(60, 64, 67, 0.3), 0px 1px 3px 1px rgba(60, 64, 67, 0.15);\n",
              "      fill: #174EA6;\n",
              "    }\n",
              "\n",
              "    [theme=dark] .colab-df-convert {\n",
              "      background-color: #3B4455;\n",
              "      fill: #D2E3FC;\n",
              "    }\n",
              "\n",
              "    [theme=dark] .colab-df-convert:hover {\n",
              "      background-color: #434B5C;\n",
              "      box-shadow: 0px 1px 3px 1px rgba(0, 0, 0, 0.15);\n",
              "      filter: drop-shadow(0px 1px 2px rgba(0, 0, 0, 0.3));\n",
              "      fill: #FFFFFF;\n",
              "    }\n",
              "  </style>\n",
              "\n",
              "      <script>\n",
              "        const buttonEl =\n",
              "          document.querySelector('#df-c39400f4-2ba7-4af9-bf18-dba2debbf88b button.colab-df-convert');\n",
              "        buttonEl.style.display =\n",
              "          google.colab.kernel.accessAllowed ? 'block' : 'none';\n",
              "\n",
              "        async function convertToInteractive(key) {\n",
              "          const element = document.querySelector('#df-c39400f4-2ba7-4af9-bf18-dba2debbf88b');\n",
              "          const dataTable =\n",
              "            await google.colab.kernel.invokeFunction('convertToInteractive',\n",
              "                                                     [key], {});\n",
              "          if (!dataTable) return;\n",
              "\n",
              "          const docLinkHtml = 'Like what you see? Visit the ' +\n",
              "            '<a target=\"_blank\" href=https://colab.research.google.com/notebooks/data_table.ipynb>data table notebook</a>'\n",
              "            + ' to learn more about interactive tables.';\n",
              "          element.innerHTML = '';\n",
              "          dataTable['output_type'] = 'display_data';\n",
              "          await google.colab.output.renderOutput(dataTable, element);\n",
              "          const docLink = document.createElement('div');\n",
              "          docLink.innerHTML = docLinkHtml;\n",
              "          element.appendChild(docLink);\n",
              "        }\n",
              "      </script>\n",
              "    </div>\n",
              "  </div>\n",
              "  "
            ]
          },
          "metadata": {},
          "execution_count": 62
        }
      ]
    },
    {
      "cell_type": "markdown",
      "source": [
        "## NUEVAS VARIABLES CUALITATIVAS\n",
        "\n",
        "*   Generar 3 variables cualitativas ordinales a partir de las\n",
        "variables numéricas con los siguientes criterios:\n",
        "\n",
        "★ Si es mayor a la “media + 1*desviación estándar” →\n",
        "Alto \n",
        "★ Si está entre “media - 1*desviación estándar” y\n",
        "“media + 1*desviación estándar” → Medio\n",
        "★ Si es menor a la “media - 1*desviación estándar” →\n",
        "Bajo\n",
        "Nota: Mostrar con las nuevas variables generadas."
      ],
      "metadata": {
        "id": "hv_DjzfPSAlI"
      }
    },
    {
      "cell_type": "code",
      "source": [
        "condiciones = [autos['Peso_En_Libras'] > (autos['Peso_En_Libras'].mean() + autos['Peso_En_Libras'].std()),\n",
        "               (autos['Peso_En_Libras'] < (autos['Peso_En_Libras'].mean() + autos['Peso_En_Libras'].std())) & (autos['Peso_En_Libras'] > (autos['Peso_En_Libras'].mean() - autos['Peso_En_Libras'].std())),\n",
        "               autos['Peso_En_Libras'] < (autos['Peso_En_Libras'].mean() - autos['Peso_En_Libras'].std())]\n",
        "opciones = ['Alto', 'Medio', 'Bajo']\n",
        " \n",
        "autos['Peso_vs_Media'] = np.select(condiciones,opciones)\n",
        "autos.head(5)"
      ],
      "metadata": {
        "colab": {
          "base_uri": "https://localhost:8080/",
          "height": 392
        },
        "id": "LqSd7o0Z0zHD",
        "outputId": "c314ff10-5bbf-43f8-dc13-ebfa1af0341d"
      },
      "execution_count": 63,
      "outputs": [
        {
          "output_type": "execute_result",
          "data": {
            "text/plain": [
              "   Millas_Por_Galon  Cilindros Pais_Origen  Peso_En_Libras  Desplazamiento  \\\n",
              "0              18.0          8           1            3504           307.0   \n",
              "1              15.0          8           1            3693           350.0   \n",
              "2              18.0          8           1            3436           318.0   \n",
              "3              16.0          8           1            3433           304.0   \n",
              "4              17.0          8           1            3449           302.0   \n",
              "\n",
              "   Aceleracion                     Nombre        Anyo  Caballo_De_Fuerza  \\\n",
              "0         12.0  chevrolet chevelle malibu  01/01/1970              130.0   \n",
              "1         11.5          buick skylark 320  01/01/1970              165.0   \n",
              "2         11.0         plymouth satellite  01/01/1970              150.0   \n",
              "3         12.0              amc rebel sst  01/01/1970              150.0   \n",
              "4         10.5                ford torino  01/01/1970              140.0   \n",
              "\n",
              "    ajuste1        ajuste2  ajuste3     ajuste4    ajuste5 Peso_vs_Media  \n",
              "0 -1.057426  6.304607e+132        5  170.951129  27.000000         Medio  \n",
              "1 -1.023311  3.060049e+151        5  260.872760  19.565217         Medio  \n",
              "2 -1.033626  3.738022e+137        5  140.747264  29.454545         Medio  \n",
              "3 -1.052800  3.106915e+131        5  240.942084  21.333333         Medio  \n",
              "4 -1.057686  4.214540e+130        5  143.854793  27.523810         Medio  "
            ],
            "text/html": [
              "\n",
              "  <div id=\"df-8fb6f8ee-e092-4d82-8143-b8f3210c437e\">\n",
              "    <div class=\"colab-df-container\">\n",
              "      <div>\n",
              "<style scoped>\n",
              "    .dataframe tbody tr th:only-of-type {\n",
              "        vertical-align: middle;\n",
              "    }\n",
              "\n",
              "    .dataframe tbody tr th {\n",
              "        vertical-align: top;\n",
              "    }\n",
              "\n",
              "    .dataframe thead th {\n",
              "        text-align: right;\n",
              "    }\n",
              "</style>\n",
              "<table border=\"1\" class=\"dataframe\">\n",
              "  <thead>\n",
              "    <tr style=\"text-align: right;\">\n",
              "      <th></th>\n",
              "      <th>Millas_Por_Galon</th>\n",
              "      <th>Cilindros</th>\n",
              "      <th>Pais_Origen</th>\n",
              "      <th>Peso_En_Libras</th>\n",
              "      <th>Desplazamiento</th>\n",
              "      <th>Aceleracion</th>\n",
              "      <th>Nombre</th>\n",
              "      <th>Anyo</th>\n",
              "      <th>Caballo_De_Fuerza</th>\n",
              "      <th>ajuste1</th>\n",
              "      <th>ajuste2</th>\n",
              "      <th>ajuste3</th>\n",
              "      <th>ajuste4</th>\n",
              "      <th>ajuste5</th>\n",
              "      <th>Peso_vs_Media</th>\n",
              "    </tr>\n",
              "  </thead>\n",
              "  <tbody>\n",
              "    <tr>\n",
              "      <th>0</th>\n",
              "      <td>18.0</td>\n",
              "      <td>8</td>\n",
              "      <td>1</td>\n",
              "      <td>3504</td>\n",
              "      <td>307.0</td>\n",
              "      <td>12.0</td>\n",
              "      <td>chevrolet chevelle malibu</td>\n",
              "      <td>01/01/1970</td>\n",
              "      <td>130.0</td>\n",
              "      <td>-1.057426</td>\n",
              "      <td>6.304607e+132</td>\n",
              "      <td>5</td>\n",
              "      <td>170.951129</td>\n",
              "      <td>27.000000</td>\n",
              "      <td>Medio</td>\n",
              "    </tr>\n",
              "    <tr>\n",
              "      <th>1</th>\n",
              "      <td>15.0</td>\n",
              "      <td>8</td>\n",
              "      <td>1</td>\n",
              "      <td>3693</td>\n",
              "      <td>350.0</td>\n",
              "      <td>11.5</td>\n",
              "      <td>buick skylark 320</td>\n",
              "      <td>01/01/1970</td>\n",
              "      <td>165.0</td>\n",
              "      <td>-1.023311</td>\n",
              "      <td>3.060049e+151</td>\n",
              "      <td>5</td>\n",
              "      <td>260.872760</td>\n",
              "      <td>19.565217</td>\n",
              "      <td>Medio</td>\n",
              "    </tr>\n",
              "    <tr>\n",
              "      <th>2</th>\n",
              "      <td>18.0</td>\n",
              "      <td>8</td>\n",
              "      <td>1</td>\n",
              "      <td>3436</td>\n",
              "      <td>318.0</td>\n",
              "      <td>11.0</td>\n",
              "      <td>plymouth satellite</td>\n",
              "      <td>01/01/1970</td>\n",
              "      <td>150.0</td>\n",
              "      <td>-1.033626</td>\n",
              "      <td>3.738022e+137</td>\n",
              "      <td>5</td>\n",
              "      <td>140.747264</td>\n",
              "      <td>29.454545</td>\n",
              "      <td>Medio</td>\n",
              "    </tr>\n",
              "    <tr>\n",
              "      <th>3</th>\n",
              "      <td>16.0</td>\n",
              "      <td>8</td>\n",
              "      <td>1</td>\n",
              "      <td>3433</td>\n",
              "      <td>304.0</td>\n",
              "      <td>12.0</td>\n",
              "      <td>amc rebel sst</td>\n",
              "      <td>01/01/1970</td>\n",
              "      <td>150.0</td>\n",
              "      <td>-1.052800</td>\n",
              "      <td>3.106915e+131</td>\n",
              "      <td>5</td>\n",
              "      <td>240.942084</td>\n",
              "      <td>21.333333</td>\n",
              "      <td>Medio</td>\n",
              "    </tr>\n",
              "    <tr>\n",
              "      <th>4</th>\n",
              "      <td>17.0</td>\n",
              "      <td>8</td>\n",
              "      <td>1</td>\n",
              "      <td>3449</td>\n",
              "      <td>302.0</td>\n",
              "      <td>10.5</td>\n",
              "      <td>ford torino</td>\n",
              "      <td>01/01/1970</td>\n",
              "      <td>140.0</td>\n",
              "      <td>-1.057686</td>\n",
              "      <td>4.214540e+130</td>\n",
              "      <td>5</td>\n",
              "      <td>143.854793</td>\n",
              "      <td>27.523810</td>\n",
              "      <td>Medio</td>\n",
              "    </tr>\n",
              "  </tbody>\n",
              "</table>\n",
              "</div>\n",
              "      <button class=\"colab-df-convert\" onclick=\"convertToInteractive('df-8fb6f8ee-e092-4d82-8143-b8f3210c437e')\"\n",
              "              title=\"Convert this dataframe to an interactive table.\"\n",
              "              style=\"display:none;\">\n",
              "        \n",
              "  <svg xmlns=\"http://www.w3.org/2000/svg\" height=\"24px\"viewBox=\"0 0 24 24\"\n",
              "       width=\"24px\">\n",
              "    <path d=\"M0 0h24v24H0V0z\" fill=\"none\"/>\n",
              "    <path d=\"M18.56 5.44l.94 2.06.94-2.06 2.06-.94-2.06-.94-.94-2.06-.94 2.06-2.06.94zm-11 1L8.5 8.5l.94-2.06 2.06-.94-2.06-.94L8.5 2.5l-.94 2.06-2.06.94zm10 10l.94 2.06.94-2.06 2.06-.94-2.06-.94-.94-2.06-.94 2.06-2.06.94z\"/><path d=\"M17.41 7.96l-1.37-1.37c-.4-.4-.92-.59-1.43-.59-.52 0-1.04.2-1.43.59L10.3 9.45l-7.72 7.72c-.78.78-.78 2.05 0 2.83L4 21.41c.39.39.9.59 1.41.59.51 0 1.02-.2 1.41-.59l7.78-7.78 2.81-2.81c.8-.78.8-2.07 0-2.86zM5.41 20L4 18.59l7.72-7.72 1.47 1.35L5.41 20z\"/>\n",
              "  </svg>\n",
              "      </button>\n",
              "      \n",
              "  <style>\n",
              "    .colab-df-container {\n",
              "      display:flex;\n",
              "      flex-wrap:wrap;\n",
              "      gap: 12px;\n",
              "    }\n",
              "\n",
              "    .colab-df-convert {\n",
              "      background-color: #E8F0FE;\n",
              "      border: none;\n",
              "      border-radius: 50%;\n",
              "      cursor: pointer;\n",
              "      display: none;\n",
              "      fill: #1967D2;\n",
              "      height: 32px;\n",
              "      padding: 0 0 0 0;\n",
              "      width: 32px;\n",
              "    }\n",
              "\n",
              "    .colab-df-convert:hover {\n",
              "      background-color: #E2EBFA;\n",
              "      box-shadow: 0px 1px 2px rgba(60, 64, 67, 0.3), 0px 1px 3px 1px rgba(60, 64, 67, 0.15);\n",
              "      fill: #174EA6;\n",
              "    }\n",
              "\n",
              "    [theme=dark] .colab-df-convert {\n",
              "      background-color: #3B4455;\n",
              "      fill: #D2E3FC;\n",
              "    }\n",
              "\n",
              "    [theme=dark] .colab-df-convert:hover {\n",
              "      background-color: #434B5C;\n",
              "      box-shadow: 0px 1px 3px 1px rgba(0, 0, 0, 0.15);\n",
              "      filter: drop-shadow(0px 1px 2px rgba(0, 0, 0, 0.3));\n",
              "      fill: #FFFFFF;\n",
              "    }\n",
              "  </style>\n",
              "\n",
              "      <script>\n",
              "        const buttonEl =\n",
              "          document.querySelector('#df-8fb6f8ee-e092-4d82-8143-b8f3210c437e button.colab-df-convert');\n",
              "        buttonEl.style.display =\n",
              "          google.colab.kernel.accessAllowed ? 'block' : 'none';\n",
              "\n",
              "        async function convertToInteractive(key) {\n",
              "          const element = document.querySelector('#df-8fb6f8ee-e092-4d82-8143-b8f3210c437e');\n",
              "          const dataTable =\n",
              "            await google.colab.kernel.invokeFunction('convertToInteractive',\n",
              "                                                     [key], {});\n",
              "          if (!dataTable) return;\n",
              "\n",
              "          const docLinkHtml = 'Like what you see? Visit the ' +\n",
              "            '<a target=\"_blank\" href=https://colab.research.google.com/notebooks/data_table.ipynb>data table notebook</a>'\n",
              "            + ' to learn more about interactive tables.';\n",
              "          element.innerHTML = '';\n",
              "          dataTable['output_type'] = 'display_data';\n",
              "          await google.colab.output.renderOutput(dataTable, element);\n",
              "          const docLink = document.createElement('div');\n",
              "          docLink.innerHTML = docLinkHtml;\n",
              "          element.appendChild(docLink);\n",
              "        }\n",
              "      </script>\n",
              "    </div>\n",
              "  </div>\n",
              "  "
            ]
          },
          "metadata": {},
          "execution_count": 63
        }
      ]
    },
    {
      "cell_type": "markdown",
      "source": [
        "## GRÁFICOS \n",
        "- Crear una función que muestre los siguientes gráficos para\n",
        "las variables numéricas según una variable cualitativa:\n",
        "\n",
        "❖ Cajas y bigotes\n",
        "❖ Barras de la media\n",
        "❖ Histograma con Curva\n",
        "\n",
        "- Crear una función que devuelva un mapa de calor con la\n",
        "correlación de todas las variables numéricas (incluye las\n",
        "generadas), para cada país."
      ],
      "metadata": {
        "id": "LSMPYvoSQrRq"
      }
    },
    {
      "cell_type": "code",
      "source": [
        "#Histograma \n",
        "\n",
        "## y = número de autos que gastan ese número de millas por galon\n",
        "## x = número de millas por galon gastadas por un auto\n",
        "autos['Millas_Por_Galon'].hist()\n",
        "#Inclinada a la izquierda"
      ],
      "metadata": {
        "colab": {
          "base_uri": "https://localhost:8080/",
          "height": 282
        },
        "id": "rn0guBBLKBYu",
        "outputId": "8c0d487e-d7fe-479f-d087-cb43b54aba50"
      },
      "execution_count": 64,
      "outputs": [
        {
          "output_type": "execute_result",
          "data": {
            "text/plain": [
              "<matplotlib.axes._subplots.AxesSubplot at 0x7ff738b9e210>"
            ]
          },
          "metadata": {},
          "execution_count": 64
        },
        {
          "output_type": "display_data",
          "data": {
            "text/plain": [
              "<Figure size 432x288 with 1 Axes>"
            ],
            "image/png": "[encoded data removed]"
          },
          "metadata": {
            "needs_background": "light"
          }
        }
      ]
    },
    {
      "cell_type": "code",
      "source": [
        "#Histograma con curva\n",
        "sb.distplot(autos['Millas_Por_Galon'])"
      ],
      "metadata": {
        "id": "F201_2zzyrjo",
        "colab": {
          "base_uri": "https://localhost:8080/",
          "height": 352
        },
        "outputId": "56170e1f-1712-40fa-f696-ec93e141478e"
      },
      "execution_count": 65,
      "outputs": [
        {
          "output_type": "stream",
          "name": "stderr",
          "text": [
            "/usr/local/lib/python3.7/dist-packages/seaborn/distributions.py:2619: FutureWarning: `distplot` is a deprecated function and will be removed in a future version. Please adapt your code to use either `displot` (a figure-level function with similar flexibility) or `histplot` (an axes-level function for histograms).\n",
            "  warnings.warn(msg, FutureWarning)\n"
          ]
        },
        {
          "output_type": "execute_result",
          "data": {
            "text/plain": [
              "<matplotlib.axes._subplots.AxesSubplot at 0x7ff738b2c690>"
            ]
          },
          "metadata": {},
          "execution_count": 65
        },
        {
          "output_type": "display_data",
          "data": {
            "text/plain": [
              "<Figure size 432x288 with 1 Axes>"
            ],
            "image/png": "[encoded data removed]"
          },
          "metadata": {
            "needs_background": "light"
          }
        }
      ]
    },
    {
      "cell_type": "code",
      "source": [
        "#Histograma \n",
        "\n",
        "\n",
        "## y = número de autos que tienen esa aceleración\n",
        "## x = Aceleracion de un carro\n",
        "autos['Aceleracion'].hist()\n",
        "\n",
        "\n",
        "#Tiene forma de campana"
      ],
      "metadata": {
        "id": "r384w7D_KFOG",
        "colab": {
          "base_uri": "https://localhost:8080/",
          "height": 282
        },
        "outputId": "a9e982aa-ad58-4291-8a7d-c4435368eb93"
      },
      "execution_count": 66,
      "outputs": [
        {
          "output_type": "execute_result",
          "data": {
            "text/plain": [
              "<matplotlib.axes._subplots.AxesSubplot at 0x7ff738b31c90>"
            ]
          },
          "metadata": {},
          "execution_count": 66
        },
        {
          "output_type": "display_data",
          "data": {
            "text/plain": [
              "<Figure size 432x288 with 1 Axes>"
            ],
            "image/png": "[encoded data removed]"
          },
          "metadata": {
            "needs_background": "light"
          }
        }
      ]
    },
    {
      "cell_type": "code",
      "source": [
        "#Histograma con curva\n",
        "sb.distplot(autos['Aceleracion'])"
      ],
      "metadata": {
        "id": "qCBmhUaoy-Ec",
        "colab": {
          "base_uri": "https://localhost:8080/",
          "height": 351
        },
        "outputId": "1fda2d73-d3d8-4dfd-819f-de1ff9490d24"
      },
      "execution_count": 67,
      "outputs": [
        {
          "output_type": "stream",
          "name": "stderr",
          "text": [
            "/usr/local/lib/python3.7/dist-packages/seaborn/distributions.py:2619: FutureWarning: `distplot` is a deprecated function and will be removed in a future version. Please adapt your code to use either `displot` (a figure-level function with similar flexibility) or `histplot` (an axes-level function for histograms).\n",
            "  warnings.warn(msg, FutureWarning)\n"
          ]
        },
        {
          "output_type": "execute_result",
          "data": {
            "text/plain": [
              "<matplotlib.axes._subplots.AxesSubplot at 0x7ff738a28110>"
            ]
          },
          "metadata": {},
          "execution_count": 67
        },
        {
          "output_type": "display_data",
          "data": {
            "text/plain": [
              "<Figure size 432x288 with 1 Axes>"
            ],
            "image/png": "[encoded data removed]"
          },
          "metadata": {
            "needs_background": "light"
          }
        }
      ]
    },
    {
      "cell_type": "code",
      "source": [
        "#Histograma \n",
        "\n",
        "\n",
        "## y = número de autos que tienen esos caballos de fuerza\n",
        "## x = Caballos de fuerza de un carro\n",
        "autos['Caballo_De_Fuerza'].hist()\n",
        "\n",
        "#Tiene forma inclinada a la izq, la mayoría de los datos caen entre 75 y 100"
      ],
      "metadata": {
        "id": "dNNAIWgNKvrT",
        "colab": {
          "base_uri": "https://localhost:8080/",
          "height": 282
        },
        "outputId": "886f476f-08b5-4173-b407-1fb43151e210"
      },
      "execution_count": 68,
      "outputs": [
        {
          "output_type": "execute_result",
          "data": {
            "text/plain": [
              "<matplotlib.axes._subplots.AxesSubplot at 0x7ff738aa4890>"
            ]
          },
          "metadata": {},
          "execution_count": 68
        },
        {
          "output_type": "display_data",
          "data": {
            "text/plain": [
              "<Figure size 432x288 with 1 Axes>"
            ],
            "image/png": "[encoded data removed]"
          },
          "metadata": {
            "needs_background": "light"
          }
        }
      ]
    },
    {
      "cell_type": "code",
      "source": [
        "#Histograma con curva\n",
        "sb.distplot(autos['Caballo_De_Fuerza'])"
      ],
      "metadata": {
        "id": "4Rnq-RthzCHl",
        "colab": {
          "base_uri": "https://localhost:8080/",
          "height": 352
        },
        "outputId": "fcd3f14a-fce3-44bd-e585-20b3d6c163e3"
      },
      "execution_count": 69,
      "outputs": [
        {
          "output_type": "stream",
          "name": "stderr",
          "text": [
            "/usr/local/lib/python3.7/dist-packages/seaborn/distributions.py:2619: FutureWarning: `distplot` is a deprecated function and will be removed in a future version. Please adapt your code to use either `displot` (a figure-level function with similar flexibility) or `histplot` (an axes-level function for histograms).\n",
            "  warnings.warn(msg, FutureWarning)\n"
          ]
        },
        {
          "output_type": "execute_result",
          "data": {
            "text/plain": [
              "<matplotlib.axes._subplots.AxesSubplot at 0x7ff73887f590>"
            ]
          },
          "metadata": {},
          "execution_count": 69
        },
        {
          "output_type": "display_data",
          "data": {
            "text/plain": [
              "<Figure size 432x288 with 1 Axes>"
            ],
            "image/png": "[encoded data removed]"
          },
          "metadata": {
            "needs_background": "light"
          }
        }
      ]
    },
    {
      "cell_type": "code",
      "source": [
        "#Histograma\n",
        "\n",
        "\n",
        "## y = número de autos con cierto Desplazamiento\n",
        "## x = Desplazamiento de un carro\n",
        "autos['Desplazamiento'].hist()\n",
        "\n",
        "#anormal no es una distribuccion gausina o de campana"
      ],
      "metadata": {
        "id": "l-wDGzkiK3Gw",
        "colab": {
          "base_uri": "https://localhost:8080/",
          "height": 282
        },
        "outputId": "4adc6913-54b7-47d5-f8d8-b6e232e41f62"
      },
      "execution_count": 70,
      "outputs": [
        {
          "output_type": "execute_result",
          "data": {
            "text/plain": [
              "<matplotlib.axes._subplots.AxesSubplot at 0x7ff73884fb50>"
            ]
          },
          "metadata": {},
          "execution_count": 70
        },
        {
          "output_type": "display_data",
          "data": {
            "text/plain": [
              "<Figure size 432x288 with 1 Axes>"
            ],
            "image/png": "[encoded data removed]"
          },
          "metadata": {
            "needs_background": "light"
          }
        }
      ]
    },
    {
      "cell_type": "code",
      "source": [
        "#Histograma con curva\n",
        "sb.distplot(autos['Desplazamiento'])"
      ],
      "metadata": {
        "id": "l847jv7EzJZg",
        "colab": {
          "base_uri": "https://localhost:8080/",
          "height": 351
        },
        "outputId": "4f02a5ab-ea5d-4fd1-97d1-09681bd14f45"
      },
      "execution_count": 71,
      "outputs": [
        {
          "output_type": "stream",
          "name": "stderr",
          "text": [
            "/usr/local/lib/python3.7/dist-packages/seaborn/distributions.py:2619: FutureWarning: `distplot` is a deprecated function and will be removed in a future version. Please adapt your code to use either `displot` (a figure-level function with similar flexibility) or `histplot` (an axes-level function for histograms).\n",
            "  warnings.warn(msg, FutureWarning)\n"
          ]
        },
        {
          "output_type": "execute_result",
          "data": {
            "text/plain": [
              "<matplotlib.axes._subplots.AxesSubplot at 0x7ff7387b3310>"
            ]
          },
          "metadata": {},
          "execution_count": 71
        },
        {
          "output_type": "display_data",
          "data": {
            "text/plain": [
              "<Figure size 432x288 with 1 Axes>"
            ],
            "image/png": "[encoded data removed]"
          },
          "metadata": {
            "needs_background": "light"
          }
        }
      ]
    },
    {
      "cell_type": "code",
      "source": [
        "#BOXPLOT\n",
        "\n",
        "#Abajo vemos cómo con Boxplot (o diagrama de cajas) podemos observar los valores atípicos rápidamente. \n",
        "sb.boxplot(data=autos)\n",
        "\n",
        "#En las últimas dos variables hay algunos datos que salen de las cajas"
      ],
      "metadata": {
        "id": "JmFonJO2L5yq",
        "colab": {
          "base_uri": "https://localhost:8080/",
          "height": 294
        },
        "outputId": "b763c139-2588-46a4-fe74-4baec88d2521"
      },
      "execution_count": 72,
      "outputs": [
        {
          "output_type": "execute_result",
          "data": {
            "text/plain": [
              "<matplotlib.axes._subplots.AxesSubplot at 0x7ff7386bf290>"
            ]
          },
          "metadata": {},
          "execution_count": 72
        },
        {
          "output_type": "display_data",
          "data": {
            "text/plain": [
              "<Figure size 432x288 with 1 Axes>"
            ],
            "image/png": "[encoded data removed]"
          },
          "metadata": {
            "needs_background": "light"
          }
        }
      ]
    },
    {
      "cell_type": "code",
      "source": [
        "sb.boxplot(x = autos['Caballo_De_Fuerza'])\n",
        "#No vale la pena cortar los outliers porque no se alejan tanto del 3er cuartil, por lo que podría ser una medición verdadera"
      ],
      "metadata": {
        "id": "q2bSF1rrMZY8",
        "colab": {
          "base_uri": "https://localhost:8080/",
          "height": 297
        },
        "outputId": "364141a7-231a-4bbe-ce2d-d4db9e2378a3"
      },
      "execution_count": 73,
      "outputs": [
        {
          "output_type": "execute_result",
          "data": {
            "text/plain": [
              "<matplotlib.axes._subplots.AxesSubplot at 0x7ff738597210>"
            ]
          },
          "metadata": {},
          "execution_count": 73
        },
        {
          "output_type": "display_data",
          "data": {
            "text/plain": [
              "<Figure size 432x288 with 1 Axes>"
            ],
            "image/png": "[encoded data removed]"
          },
          "metadata": {
            "needs_background": "light"
          }
        }
      ]
    },
    {
      "cell_type": "code",
      "source": [
        "sb.boxplot(x = autos['Aceleracion'])\n",
        "#No vale la pena cortar los outliers porque no se alejan tanto del 3er cuartil, por lo que podría ser una medición verdadera"
      ],
      "metadata": {
        "id": "1T6OgHPMMk9P",
        "colab": {
          "base_uri": "https://localhost:8080/",
          "height": 296
        },
        "outputId": "df324127-8bdc-4d49-a2b4-feb9d83f4b1e"
      },
      "execution_count": 74,
      "outputs": [
        {
          "output_type": "execute_result",
          "data": {
            "text/plain": [
              "<matplotlib.axes._subplots.AxesSubplot at 0x7ff738575810>"
            ]
          },
          "metadata": {},
          "execution_count": 74
        },
        {
          "output_type": "display_data",
          "data": {
            "text/plain": [
              "<Figure size 432x288 with 1 Axes>"
            ],
            "image/png": "[encoded data removed]"
          },
          "metadata": {
            "needs_background": "light"
          }
        }
      ]
    },
    {
      "cell_type": "code",
      "source": [
        "#En dado caso de que cortáramos los outliers se haría de esta manera\n",
        "\n",
        "#corte_inferior = 200 #valor asignado\n",
        "#corte_superior = df['Variable'].quantile(0.75)\n",
        "#df = df[(df['Variable'] < corte_superior) & (df['Variable'] > corte_inferior)]\n",
        "\n",
        "#Pero no correré estas líneas, las dejaré escritas para futuras referencias\n",
        "#Habrá que visualizar nuevamente las variables para ver como se comportan después de retirar los outliers"
      ],
      "metadata": {
        "id": "6_h10WNtyZ2O"
      },
      "execution_count": 75,
      "outputs": []
    },
    {
      "cell_type": "code",
      "source": [
        "#Visualización de las variables No numéricas\n",
        "autos['Pais_Origen'].value_counts().plot(kind='bar', figsize=(20,5))\n",
        "plt.title('Paises de origen de los autos')\n",
        "plt.ylabel('Conteo')\n",
        "plt.xlabel('Paises');"
      ],
      "metadata": {
        "id": "UbWZ68nS0SZi",
        "colab": {
          "base_uri": "https://localhost:8080/",
          "height": 346
        },
        "outputId": "14b2224e-114b-4399-98fa-49d28a7c71bf"
      },
      "execution_count": 76,
      "outputs": [
        {
          "output_type": "display_data",
          "data": {
            "text/plain": [
              "<Figure size 1440x360 with 1 Axes>"
            ],
            "image/png": "[encoded data removed]"
          },
          "metadata": {
            "needs_background": "light"
          }
        }
      ]
    },
    {
      "cell_type": "code",
      "source": [
        "#Visualización de las variables No numéricas\n",
        "autos['Nombre'].value_counts().plot(kind='bar', figsize=(50,5))\n",
        "plt.title('Autos')\n",
        "plt.ylabel('Conteo')\n",
        "plt.xlabel('Autos'),\n",
        "\n",
        "#Vemos que cada usuario escribió el nombre que quiso al momento de registrar el nombre de sus vehículos, \n",
        "#por lo que no vale la pena tomar esta variable por el momento para hacer mediciones, ya que hay datos distintos para cada registro"
      ],
      "metadata": {
        "id": "Pi_rccyH0_Ll",
        "colab": {
          "base_uri": "https://localhost:8080/",
          "height": 258
        },
        "outputId": "3490b2a5-6c9e-4abf-b684-25a3ab2f865f"
      },
      "execution_count": 77,
      "outputs": [
        {
          "output_type": "execute_result",
          "data": {
            "text/plain": [
              "(Text(0.5, 0, 'Autos'),)"
            ]
          },
          "metadata": {},
          "execution_count": 77
        },
        {
          "output_type": "display_data",
          "data": {
            "text/plain": [
              "<Figure size 3600x360 with 1 Axes>"
            ],
            "image/png": "[encoded data removed]"
          },
          "metadata": {
            "needs_background": "light"
          }
        }
      ]
    },
    {
      "cell_type": "code",
      "source": [
        "#Correlaciones y mapa de calor\n",
        "correlaciones= autos.corr()\n",
        "sb.heatmap(correlaciones)\n",
        "correlaciones"
      ],
      "metadata": {
        "id": "2hrVBpc_1fk8",
        "colab": {
          "base_uri": "https://localhost:8080/",
          "height": 774
        },
        "outputId": "ca589e01-eeec-4443-fe9b-fb4e9ea0097d"
      },
      "execution_count": 78,
      "outputs": [
        {
          "output_type": "execute_result",
          "data": {
            "text/plain": [
              "                   Millas_Por_Galon  Cilindros  Peso_En_Libras  \\\n",
              "Millas_Por_Galon           1.000000  -0.777618       -0.832244   \n",
              "Cilindros                 -0.777618   1.000000        0.897527   \n",
              "Peso_En_Libras            -0.832244   0.897527        1.000000   \n",
              "Desplazamiento            -0.805127   0.950823        0.932994   \n",
              "Aceleracion                0.423329  -0.504683       -0.416839   \n",
              "Caballo_De_Fuerza         -0.778427   0.842983        0.864538   \n",
              "ajuste1                   -0.719321   0.894421        0.775796   \n",
              "ajuste2                   -0.000000   0.000000        0.000000   \n",
              "ajuste3                         NaN        NaN             NaN   \n",
              "ajuste4                   -0.026611   0.035870        0.020118   \n",
              "ajuste5                    0.948786  -0.661388       -0.741013   \n",
              "\n",
              "                   Desplazamiento  Aceleracion  Caballo_De_Fuerza   ajuste1  \\\n",
              "Millas_Por_Galon        -0.805127     0.423329          -0.778427 -0.719321   \n",
              "Cilindros                0.950823    -0.504683           0.842983  0.894421   \n",
              "Peso_En_Libras           0.932994    -0.416839           0.864538  0.775796   \n",
              "Desplazamiento           1.000000    -0.543800           0.897257  0.928447   \n",
              "Aceleracion             -0.543800     1.000000          -0.689196 -0.535759   \n",
              "Caballo_De_Fuerza        0.897257    -0.689196           1.000000  0.767028   \n",
              "ajuste1                  0.928447    -0.535759           0.767028  1.000000   \n",
              "ajuste2                  0.000000    -0.000000           0.000000  0.000000   \n",
              "ajuste3                       NaN          NaN                NaN       NaN   \n",
              "ajuste4                  0.042466    -0.075594           0.033836  0.047819   \n",
              "ajuste5                 -0.682681     0.162430          -0.619505 -0.594884   \n",
              "\n",
              "                   ajuste2  ajuste3   ajuste4   ajuste5  \n",
              "Millas_Por_Galon      -0.0      NaN -0.026611  0.948786  \n",
              "Cilindros              0.0      NaN  0.035870 -0.661388  \n",
              "Peso_En_Libras         0.0      NaN  0.020118 -0.741013  \n",
              "Desplazamiento         0.0      NaN  0.042466 -0.682681  \n",
              "Aceleracion           -0.0      NaN -0.075594  0.162430  \n",
              "Caballo_De_Fuerza      0.0      NaN  0.033836 -0.619505  \n",
              "ajuste1                0.0      NaN  0.047819 -0.594884  \n",
              "ajuste2                NaN      NaN  0.000000 -0.000000  \n",
              "ajuste3                NaN      NaN       NaN       NaN  \n",
              "ajuste4                0.0      NaN  1.000000 -0.025104  \n",
              "ajuste5               -0.0      NaN -0.025104  1.000000  "
            ],
            "text/html": [
              "\n",
              "  <div id=\"df-9836853d-c3b2-4a91-89a5-558c66062d52\">\n",
              "    <div class=\"colab-df-container\">\n",
              "      <div>\n",
              "<style scoped>\n",
              "    .dataframe tbody tr th:only-of-type {\n",
              "        vertical-align: middle;\n",
              "    }\n",
              "\n",
              "    .dataframe tbody tr th {\n",
              "        vertical-align: top;\n",
              "    }\n",
              "\n",
              "    .dataframe thead th {\n",
              "        text-align: right;\n",
              "    }\n",
              "</style>\n",
              "<table border=\"1\" class=\"dataframe\">\n",
              "  <thead>\n",
              "    <tr style=\"text-align: right;\">\n",
              "      <th></th>\n",
              "      <th>Millas_Por_Galon</th>\n",
              "      <th>Cilindros</th>\n",
              "      <th>Peso_En_Libras</th>\n",
              "      <th>Desplazamiento</th>\n",
              "      <th>Aceleracion</th>\n",
              "      <th>Caballo_De_Fuerza</th>\n",
              "      <th>ajuste1</th>\n",
              "      <th>ajuste2</th>\n",
              "      <th>ajuste3</th>\n",
              "      <th>ajuste4</th>\n",
              "      <th>ajuste5</th>\n",
              "    </tr>\n",
              "  </thead>\n",
              "  <tbody>\n",
              "    <tr>\n",
              "      <th>Millas_Por_Galon</th>\n",
              "      <td>1.000000</td>\n",
              "      <td>-0.777618</td>\n",
              "      <td>-0.832244</td>\n",
              "      <td>-0.805127</td>\n",
              "      <td>0.423329</td>\n",
              "      <td>-0.778427</td>\n",
              "      <td>-0.719321</td>\n",
              "      <td>-0.0</td>\n",
              "      <td>NaN</td>\n",
              "      <td>-0.026611</td>\n",
              "      <td>0.948786</td>\n",
              "    </tr>\n",
              "    <tr>\n",
              "      <th>Cilindros</th>\n",
              "      <td>-0.777618</td>\n",
              "      <td>1.000000</td>\n",
              "      <td>0.897527</td>\n",
              "      <td>0.950823</td>\n",
              "      <td>-0.504683</td>\n",
              "      <td>0.842983</td>\n",
              "      <td>0.894421</td>\n",
              "      <td>0.0</td>\n",
              "      <td>NaN</td>\n",
              "      <td>0.035870</td>\n",
              "      <td>-0.661388</td>\n",
              "    </tr>\n",
              "    <tr>\n",
              "      <th>Peso_En_Libras</th>\n",
              "      <td>-0.832244</td>\n",
              "      <td>0.897527</td>\n",
              "      <td>1.000000</td>\n",
              "      <td>0.932994</td>\n",
              "      <td>-0.416839</td>\n",
              "      <td>0.864538</td>\n",
              "      <td>0.775796</td>\n",
              "      <td>0.0</td>\n",
              "      <td>NaN</td>\n",
              "      <td>0.020118</td>\n",
              "      <td>-0.741013</td>\n",
              "    </tr>\n",
              "    <tr>\n",
              "      <th>Desplazamiento</th>\n",
              "      <td>-0.805127</td>\n",
              "      <td>0.950823</td>\n",
              "      <td>0.932994</td>\n",
              "      <td>1.000000</td>\n",
              "      <td>-0.543800</td>\n",
              "      <td>0.897257</td>\n",
              "      <td>0.928447</td>\n",
              "      <td>0.0</td>\n",
              "      <td>NaN</td>\n",
              "      <td>0.042466</td>\n",
              "      <td>-0.682681</td>\n",
              "    </tr>\n",
              "    <tr>\n",
              "      <th>Aceleracion</th>\n",
              "      <td>0.423329</td>\n",
              "      <td>-0.504683</td>\n",
              "      <td>-0.416839</td>\n",
              "      <td>-0.543800</td>\n",
              "      <td>1.000000</td>\n",
              "      <td>-0.689196</td>\n",
              "      <td>-0.535759</td>\n",
              "      <td>-0.0</td>\n",
              "      <td>NaN</td>\n",
              "      <td>-0.075594</td>\n",
              "      <td>0.162430</td>\n",
              "    </tr>\n",
              "    <tr>\n",
              "      <th>Caballo_De_Fuerza</th>\n",
              "      <td>-0.778427</td>\n",
              "      <td>0.842983</td>\n",
              "      <td>0.864538</td>\n",
              "      <td>0.897257</td>\n",
              "      <td>-0.689196</td>\n",
              "      <td>1.000000</td>\n",
              "      <td>0.767028</td>\n",
              "      <td>0.0</td>\n",
              "      <td>NaN</td>\n",
              "      <td>0.033836</td>\n",
              "      <td>-0.619505</td>\n",
              "    </tr>\n",
              "    <tr>\n",
              "      <th>ajuste1</th>\n",
              "      <td>-0.719321</td>\n",
              "      <td>0.894421</td>\n",
              "      <td>0.775796</td>\n",
              "      <td>0.928447</td>\n",
              "      <td>-0.535759</td>\n",
              "      <td>0.767028</td>\n",
              "      <td>1.000000</td>\n",
              "      <td>0.0</td>\n",
              "      <td>NaN</td>\n",
              "      <td>0.047819</td>\n",
              "      <td>-0.594884</td>\n",
              "    </tr>\n",
              "    <tr>\n",
              "      <th>ajuste2</th>\n",
              "      <td>-0.000000</td>\n",
              "      <td>0.000000</td>\n",
              "      <td>0.000000</td>\n",
              "      <td>0.000000</td>\n",
              "      <td>-0.000000</td>\n",
              "      <td>0.000000</td>\n",
              "      <td>0.000000</td>\n",
              "      <td>NaN</td>\n",
              "      <td>NaN</td>\n",
              "      <td>0.000000</td>\n",
              "      <td>-0.000000</td>\n",
              "    </tr>\n",
              "    <tr>\n",
              "      <th>ajuste3</th>\n",
              "      <td>NaN</td>\n",
              "      <td>NaN</td>\n",
              "      <td>NaN</td>\n",
              "      <td>NaN</td>\n",
              "      <td>NaN</td>\n",
              "      <td>NaN</td>\n",
              "      <td>NaN</td>\n",
              "      <td>NaN</td>\n",
              "      <td>NaN</td>\n",
              "      <td>NaN</td>\n",
              "      <td>NaN</td>\n",
              "    </tr>\n",
              "    <tr>\n",
              "      <th>ajuste4</th>\n",
              "      <td>-0.026611</td>\n",
              "      <td>0.035870</td>\n",
              "      <td>0.020118</td>\n",
              "      <td>0.042466</td>\n",
              "      <td>-0.075594</td>\n",
              "      <td>0.033836</td>\n",
              "      <td>0.047819</td>\n",
              "      <td>0.0</td>\n",
              "      <td>NaN</td>\n",
              "      <td>1.000000</td>\n",
              "      <td>-0.025104</td>\n",
              "    </tr>\n",
              "    <tr>\n",
              "      <th>ajuste5</th>\n",
              "      <td>0.948786</td>\n",
              "      <td>-0.661388</td>\n",
              "      <td>-0.741013</td>\n",
              "      <td>-0.682681</td>\n",
              "      <td>0.162430</td>\n",
              "      <td>-0.619505</td>\n",
              "      <td>-0.594884</td>\n",
              "      <td>-0.0</td>\n",
              "      <td>NaN</td>\n",
              "      <td>-0.025104</td>\n",
              "      <td>1.000000</td>\n",
              "    </tr>\n",
              "  </tbody>\n",
              "</table>\n",
              "</div>\n",
              "      <button class=\"colab-df-convert\" onclick=\"convertToInteractive('df-9836853d-c3b2-4a91-89a5-558c66062d52')\"\n",
              "              title=\"Convert this dataframe to an interactive table.\"\n",
              "              style=\"display:none;\">\n",
              "        \n",
              "  <svg xmlns=\"http://www.w3.org/2000/svg\" height=\"24px\"viewBox=\"0 0 24 24\"\n",
              "       width=\"24px\">\n",
              "    <path d=\"M0 0h24v24H0V0z\" fill=\"none\"/>\n",
              "    <path d=\"M18.56 5.44l.94 2.06.94-2.06 2.06-.94-2.06-.94-.94-2.06-.94 2.06-2.06.94zm-11 1L8.5 8.5l.94-2.06 2.06-.94-2.06-.94L8.5 2.5l-.94 2.06-2.06.94zm10 10l.94 2.06.94-2.06 2.06-.94-2.06-.94-.94-2.06-.94 2.06-2.06.94z\"/><path d=\"M17.41 7.96l-1.37-1.37c-.4-.4-.92-.59-1.43-.59-.52 0-1.04.2-1.43.59L10.3 9.45l-7.72 7.72c-.78.78-.78 2.05 0 2.83L4 21.41c.39.39.9.59 1.41.59.51 0 1.02-.2 1.41-.59l7.78-7.78 2.81-2.81c.8-.78.8-2.07 0-2.86zM5.41 20L4 18.59l7.72-7.72 1.47 1.35L5.41 20z\"/>\n",
              "  </svg>\n",
              "      </button>\n",
              "      \n",
              "  <style>\n",
              "    .colab-df-container {\n",
              "      display:flex;\n",
              "      flex-wrap:wrap;\n",
              "      gap: 12px;\n",
              "    }\n",
              "\n",
              "    .colab-df-convert {\n",
              "      background-color: #E8F0FE;\n",
              "      border: none;\n",
              "      border-radius: 50%;\n",
              "      cursor: pointer;\n",
              "      display: none;\n",
              "      fill: #1967D2;\n",
              "      height: 32px;\n",
              "      padding: 0 0 0 0;\n",
              "      width: 32px;\n",
              "    }\n",
              "\n",
              "    .colab-df-convert:hover {\n",
              "      background-color: #E2EBFA;\n",
              "      box-shadow: 0px 1px 2px rgba(60, 64, 67, 0.3), 0px 1px 3px 1px rgba(60, 64, 67, 0.15);\n",
              "      fill: #174EA6;\n",
              "    }\n",
              "\n",
              "    [theme=dark] .colab-df-convert {\n",
              "      background-color: #3B4455;\n",
              "      fill: #D2E3FC;\n",
              "    }\n",
              "\n",
              "    [theme=dark] .colab-df-convert:hover {\n",
              "      background-color: #434B5C;\n",
              "      box-shadow: 0px 1px 3px 1px rgba(0, 0, 0, 0.15);\n",
              "      filter: drop-shadow(0px 1px 2px rgba(0, 0, 0, 0.3));\n",
              "      fill: #FFFFFF;\n",
              "    }\n",
              "  </style>\n",
              "\n",
              "      <script>\n",
              "        const buttonEl =\n",
              "          document.querySelector('#df-9836853d-c3b2-4a91-89a5-558c66062d52 button.colab-df-convert');\n",
              "        buttonEl.style.display =\n",
              "          google.colab.kernel.accessAllowed ? 'block' : 'none';\n",
              "\n",
              "        async function convertToInteractive(key) {\n",
              "          const element = document.querySelector('#df-9836853d-c3b2-4a91-89a5-558c66062d52');\n",
              "          const dataTable =\n",
              "            await google.colab.kernel.invokeFunction('convertToInteractive',\n",
              "                                                     [key], {});\n",
              "          if (!dataTable) return;\n",
              "\n",
              "          const docLinkHtml = 'Like what you see? Visit the ' +\n",
              "            '<a target=\"_blank\" href=https://colab.research.google.com/notebooks/data_table.ipynb>data table notebook</a>'\n",
              "            + ' to learn more about interactive tables.';\n",
              "          element.innerHTML = '';\n",
              "          dataTable['output_type'] = 'display_data';\n",
              "          await google.colab.output.renderOutput(dataTable, element);\n",
              "          const docLink = document.createElement('div');\n",
              "          docLink.innerHTML = docLinkHtml;\n",
              "          element.appendChild(docLink);\n",
              "        }\n",
              "      </script>\n",
              "    </div>\n",
              "  </div>\n",
              "  "
            ]
          },
          "metadata": {},
          "execution_count": 78
        },
        {
          "output_type": "display_data",
          "data": {
            "text/plain": [
              "<Figure size 432x288 with 2 Axes>"
            ],
            "image/png": "[encoded data removed]"
          },
          "metadata": {
            "needs_background": "light"
          }
        }
      ]
    },
    {
      "cell_type": "code",
      "source": [
        "#Gráficos de dispersión\n",
        "\n",
        "#Escogemos dos variables que hayan tenido una alta correlación\n",
        "fig, ax = plt.subplots(figsize=(10,6))\n",
        "ax.scatter(autos['Desplazamiento'], autos['Cilindros'])\n",
        "ax.set_xlabel('Desplazamiento')\n",
        "ax.set_ylabel('Cilindros')\n",
        "plt.show()\n",
        "\n",
        "#Alta Correlación, sigue un patrón "
      ],
      "metadata": {
        "id": "aCaKyP-8Ngxk",
        "colab": {
          "base_uri": "https://localhost:8080/",
          "height": 388
        },
        "outputId": "73a702ce-4c36-4fc3-8afa-0146df20da25"
      },
      "execution_count": 79,
      "outputs": [
        {
          "output_type": "display_data",
          "data": {
            "text/plain": [
              "<Figure size 720x432 with 1 Axes>"
            ],
            "image/png": "[encoded data removed]"
          },
          "metadata": {
            "needs_background": "light"
          }
        }
      ]
    },
    {
      "cell_type": "code",
      "source": [
        "#Gráficos de dispersión\n",
        "\n",
        "#Escogemos dos variables que hayan tenido una alta correlación\n",
        "fig, ax = plt.subplots(figsize=(10,6))\n",
        "ax.scatter(autos['Desplazamiento'], autos['Peso_En_Libras'])\n",
        "ax.set_xlabel('Desplazamiento')\n",
        "ax.set_ylabel('Peso_En_Libras')\n",
        "plt.show()\n",
        "\n",
        "#Alta Correlación, sigue una tendencia"
      ],
      "metadata": {
        "id": "8mRk9QDPOkzG",
        "colab": {
          "base_uri": "https://localhost:8080/",
          "height": 388
        },
        "outputId": "5abb04b7-05ee-498e-82cc-faa74591c25d"
      },
      "execution_count": 80,
      "outputs": [
        {
          "output_type": "display_data",
          "data": {
            "text/plain": [
              "<Figure size 720x432 with 1 Axes>"
            ],
            "image/png": "[encoded data removed]"
          },
          "metadata": {
            "needs_background": "light"
          }
        }
      ]
    },
    {
      "cell_type": "code",
      "source": [
        "#Gráficos de dispersión\n",
        "\n",
        "#Escogemos dos variables que hayan tenido una alta correlación\n",
        "fig, ax = plt.subplots(figsize=(10,6))\n",
        "ax.scatter(autos['Desplazamiento'], autos['Caballo_De_Fuerza'])\n",
        "ax.set_xlabel('Desplazamiento')\n",
        "ax.set_ylabel('Caballo_De_Fuerza')\n",
        "plt.show()\n",
        "\n",
        "#Alta Correlación, sigue una tendencia"
      ],
      "metadata": {
        "id": "pwR2UZkvOwIW",
        "colab": {
          "base_uri": "https://localhost:8080/",
          "height": 388
        },
        "outputId": "ca682e78-7357-482b-ecc4-e6e708dbb646"
      },
      "execution_count": 81,
      "outputs": [
        {
          "output_type": "display_data",
          "data": {
            "text/plain": [
              "<Figure size 720x432 with 1 Axes>"
            ],
            "image/png": "[encoded data removed]"
          },
          "metadata": {
            "needs_background": "light"
          }
        }
      ]
    },
    {
      "cell_type": "markdown",
      "source": [
        "Hay mucho más cosas para hacer para mostrar más análisis de datos, pero por ahora esto consideramos que representa una muy buena introducción que brinda un panorama bastante amplio sobre la disciplina.\n",
        "\n",
        "\n"
      ],
      "metadata": {
        "id": "l9wjxMEEPR8i"
      }
    },
    {
      "cell_type": "code",
      "source": [
        "#VIDEO DE YOUTUBE https://youtu.be/VIbz9BWixYk "
      ],
      "metadata": {
        "id": "cXi0yW4NPRRE"
      },
      "execution_count": 38,
      "outputs": []
    }
  ]
}